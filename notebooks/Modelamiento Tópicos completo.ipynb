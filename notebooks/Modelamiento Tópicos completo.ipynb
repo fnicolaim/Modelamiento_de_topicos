{
 "cells": [
  {
   "cell_type": "markdown",
   "metadata": {},
   "source": [
    "# Modelamiento de Tópicos para reclamos de clientes compañía de telecomunicaciones \n",
    "\n",
    "Última modificación: Miercoles 10 de julio 2019\n",
    "\n",
    "Autor: Francisco Nicolai"
   ]
  },
  {
   "cell_type": "markdown",
   "metadata": {},
   "source": [
    "# Tabla de contenidos\n",
    "\n",
    "1. [Introducción](#intro)<br>\n",
    "    1. [Notas de versión](#version)<br>\n",
    "    2. [Librerias](#librerias)<br><br>\n",
    "2. [Bases de datos 2018](#bases)<br>\n",
    "    1. [Prepago](#prepago)<br>\n",
    "    2. [Train-Test split y primer guardado](#check1)<br><br>\n",
    "3. [Procesamiento de texto](#proc1)<br>\n",
    "    1. [Stemmer, corrector ortográfico y stopwords](#varios)<br>\n",
    "        1.[Lista blanca](#blanca)<br>\n",
    "        2.[Lista negra](#negra)<br>\n",
    "    2. [Función procesamiento](#funcion_maestra)<br>\n",
    "        1.[Ejemplo de uso](#ejemplo1)<br>\n",
    "    3. [Aplicación](#aplicación)<br>\n",
    "        1.[Aplicación preliminar](#preliminar)<br>\n",
    "        2.[Aplicación completa](#completa)<br>\n",
    "        3.[Guardado post procesado](#guardado)<br><br>\n",
    "4. [LDA](#preplda)<br>\n",
    "    1. [Preparación](#preparacion)<br>\n",
    "        1.[Creación BoW y preparación corpus](#prep1)<br>\n",
    "        2.[Creación matriz término documento](#TF)<br>\n",
    "        3.[Bonus, inspección uso de memoria](#bonus)<br>\n",
    "        4.[Remoción palabras menos frecuentes corpus](#elim)<br>\n",
    "    2. [LDA con Gensim](#gensim)<br>\n",
    "        1.[Librerias Gensim](#libreriasgensim)<br>\n",
    "        2.[Diccionario y corpus final](#corpusfinal)<br>\n",
    "        3.[Entrenamiento](#entrenamiento_modelo)<br>\n",
    "        4.[LDA VIS](#ldavis)<br><br>\n",
    "5. [Adaptación LDA](#adapt)<br>\n",
    "    1. [Carga modelos a adaptar](#carga_olda)<br>\n",
    "    2. [OLDA](#OLDA)<br>\n",
    "    3. [Desempeño](#desempeño_OLDA)<br>\n"
   ]
  },
  {
   "cell_type": "markdown",
   "metadata": {},
   "source": [
    "<a id=\"intro\"></a>\n",
    "## Introducción\n",
    "\n",
    "El próposito de este notebook es documentar y dejar en forma clara cada uno de los procesos realizados a lo largo del estudio de requerimientos. Por la naturaleza del trabajo __no se recomienda ejecutar este notebook completamente si no que por partes__.<br>\n",
    "\n",
    "Para realizar la agrupación de los requerimientos se implementa LDA ([latent dirichlet allocation](https://ai.stanford.edu/~ang/papers/nips01-lda.pdf)) técnica creada por David Blei, Andrew Ng y Michael Jordan.<br>\n",
    "\n",
    "Esquema de trabajo (figura 1):\n",
    "<ul>\n",
    "    <li> Recopilación bases postpago y prepago 2018.</li>\n",
    "    <li> División de las mismas en conjuntos de entrenamiento y validación (este último etiquetado manualmente)</li>\n",
    "    <li> <b> Preprocesamiento</b> de las bases (ortografía, bigramas y trigramas, stopwords y stemming. </li>\n",
    "    <li> <b>Múltiples entrenamientos</b> del modelo LDA buscando mejor desempeño en F-score.</li>\n",
    "    <li> <b>Implementación del mejor modelo</b> sobre nuevas muestras (mensuales) previamente preprocesadas, la actualización se lleva a cabo en función de muestras clasificadas de forma segura.</li></ul><br>\n",
    "<img alt=\"Example of alt text\" src=\"..\\img\\UntitledDiagram.jpg\" title=\"Diagrama esquema de trabajo del modelo.\"  width=\"width\" height=\"height\" />\n",
    "<center>Figura 1: Diagrama esquema de trabajo del modelo.</center>\n",
    "\n",
    "<a id=\"version\"></a>\n",
    "---\n",
    "## Notas versión:\n",
    "\n",
    "Este código fue __creado para funcionar en linux__, para windows las principales modificaciones son:\n",
    "\n",
    "```python\n",
    "        - Agregar if __name__ == \"__main__\" al inicio celda donde se ejecutará multiprocessing. ```\n",
    "        \n",
    "```python\n",
    "        - Aislar función preprocesamiento (target de multiprocessing) en un archivo .py aislado. ```\n",
    "\n",
    "Existen __limitantes para a algunas librerias en la nube__, especificamente:\n",
    "```python\n",
    "        - nltk.download('stopwords') no funcionará por ende debe cargarse manualmente post descarga.```\n",
    "```python\n",
    "        - No se puede instalar la libreria tqdm para visualización progreso en entrenamiento debido a timeout en conexión con pypi.org```       \n",
    "\n",
    "Dependiendo del equipo que se este utilizando para trabajar los directorios que contienen las bases de datos y funciones de interés serán:\n",
    "\n",
    "\n",
    "<a id=\"librerias\"></a>\n",
    "---\n",
    "## Librerias\n",
    "\n",
    "Las librerias que deben instalarse para la ejecución  del código son:"
   ]
  },
  {
   "cell_type": "code",
   "execution_count": null,
   "metadata": {},
   "outputs": [],
   "source": [
    "#!pip3 install pyspellchecker    # Corrector ortográfico\n",
    "#!pip3 install gensim            # Entrenamiento modelo\n",
    "#!pip3 install pyLDAvis          # Visualización\n",
    "#!pip3 install wordcloud         # Nubes de palabra\n",
    "#!pip3 install matplotlib        # Gráficos\n",
    "#!pip3 install nltk              # Natural Language Tool Kit\n",
    "#!pip3 install p_tqdm            # Barra de progreso\n",
    "#!pip3 install pandas"
   ]
  },
  {
   "cell_type": "code",
   "execution_count": null,
   "metadata": {},
   "outputs": [],
   "source": [
    "#Directory\n",
    "import os\n",
    "cwd = os.getcwd()\n",
    "root = os.path.dirname(cwd)\n",
    "print(root)\n",
    "\n",
    "import sys\n",
    "sys.path.append(\"..\")\n",
    "sys.path.append(os.path.join(root,\"src\"))\n",
    "\n",
    "#General\n",
    "import pandas as pd\n",
    "import re\n",
    "import numpy as np\n",
    "import time\n",
    "import nltk\n",
    "import csv\n",
    "import datetime\n",
    "import collections\n",
    "import operator\n",
    "import unicodedata\n",
    "\n",
    "#Processing\n",
    "import multiprocessing\n",
    "from spellchecker import SpellChecker #https://pypi.org/project/pyspellchecker/\n",
    "from multiprocessing import Process, current_process, Pool\n",
    "from IPython.display import display\n",
    "from sklearn.model_selection import train_test_split\n",
    "from nltk.stem.snowball import SpanishStemmer\n",
    "from gensim.models import Phrases\n",
    "from gensim.models.phrases import Phraser\n",
    "from functools import partial\n",
    "from collections import Counter\n",
    "\n",
    "import defs\n",
    "from utils import *\n",
    "\n",
    "#LDA\n",
    "import gensim\n",
    "from gensim.corpora import Dictionary, MmCorpus\n",
    "from gensim.models.coherencemodel import CoherenceModel\n",
    "from gensim.models.ldamodel import LdaModel\n",
    "from gensim.models.ldamulticore import LdaMulticore\n",
    "\n",
    "# Enable logging for gensim - optional\n",
    "import logging\n",
    "logging.basicConfig(format='%(asctime)s : %(levelname)s : %(message)s', level=logging.ERROR)\n",
    "from p_tqdm import p_map\n",
    "\n",
    "#Visualization\n",
    "import pyLDAvis\n",
    "import pyLDAvis.gensim\n",
    "\n",
    "#Performance\n",
    "from sklearn.metrics import precision_recall_fscore_support\n",
    "from sklearn.metrics import classification_report"
   ]
  },
  {
   "cell_type": "markdown",
   "metadata": {},
   "source": [
    "<a id=\"bases\"></a>\n",
    "---\n",
    "## [Bases de datos 2018](#intro)\n",
    "\n",
    "### Toma de muestras y primer preprocesamiento\n",
    "\n",
    "Teniendose datos de los 12 meses del año para postpago y prepago, se comenzó creando una subselección de los mismos para crear lo que serian el primer conjunto de entrenamiento utilizado (75.000 muestras en postpago) y el conjunto de validación el cual sería etiqutado.<br>\n",
    "\n",
    "Debido la existencia de múltiples plataformas, existen distintas categorías para las mismas variables de interés, la tabla a continuación muestra las variables de interés respectvias en postpago y prepago.<br>\n",
    "\n",
    "<table>\n",
    "  <tr>\n",
    "    <th>Formato pospago</th>\n",
    "    <th>Formato prepago</th>\n",
    "  </tr>\n",
    "  <tr>\n",
    "    <td>ID</td>\n",
    "    <td>ID_Creado</td>\n",
    "  </tr>\n",
    "    <tr>\n",
    "    <td>Fecha_Ingreso</td>\n",
    "    <td>Mes</td>\n",
    "  </tr>\n",
    "    <tr>\n",
    "    <td>Nombre_Cliente</td>\n",
    "    <td>Conctacto</td>\n",
    "  </tr>\n",
    "    <tr>\n",
    "    <td>Grupo_cliente</td>\n",
    "    <td>----------------</td>\n",
    "  </tr>\n",
    "    <tr>\n",
    "    <td>Operacion</td>\n",
    "    <td>Area</td>\n",
    "  </tr>\n",
    "    <tr>\n",
    "    <td>Suboperacion</td>\n",
    "    <td>Subárea</td>\n",
    "  </tr>\n",
    "    <tr>\n",
    "    <td>Motivo</td>\n",
    "    <td>----------------</td>\n",
    "  </tr>\n",
    "  <tr>\n",
    "    <td>Requerimiento_Del_Cliente</td>\n",
    "    <td>Descripción</td>\n",
    "  </tr>\n",
    "</table><br>"
   ]
  },
  {
   "cell_type": "markdown",
   "metadata": {},
   "source": [
    "<a id=\"prepago\"></a>\n",
    "---\n",
    "### Base de datos 2018 prepago\n",
    "Carga de datos desde archivo plataforma 2 el cual contiene todos los requerimientos del año (ubicado en directorio según indica notas versión).\n",
    "\n",
    "Para el año 2018 hubo un total de 63.000 requerimientos aprox, para permitir una igual cantidad de requerimientos de cada mes se subseleccionan un total de 5000 requerimientos por mes, para reconstruir los conjuntos que fueron etiquetados y usados como entrenamiento __DEBE mantenerse el random_state=1__.<br>\n",
    "\n",
    "Debido a que esta base de datos no incluia un Id para cada requerimiento se crea uno manualmente para los mismos antes de subseleccionar."
   ]
  },
  {
   "cell_type": "code",
   "execution_count": null,
   "metadata": {},
   "outputs": [],
   "source": [
    "import warnings\n",
    "warnings.filterwarnings(\"ignore\",category=DeprecationWarning)\n",
    "\n",
    "#Import dataframe anual\n",
    "prepago2018 = pd.read_excel(os.path.join(root,\"data\",'Base Reclamos plataforma 2 2018.xlsx'), delimiter=';') #***\n",
    "prepago2018 = prepago2018[['ID Creado','Contacto','MES','Grupo cliente','Área','Subárea','Descripción']]\n",
    "display(prepago2018.head())\n",
    "\n",
    "# Subelección requerimientos\n",
    "enero = prepago2018[prepago2018.MES == 1].sample(n = 5000, random_state = 1)\n",
    "meses = [prepago2018[prepago2018.MES == mes].sample(n = 5000, random_state = 1) for mes in list(range(2,13))]\n",
    "df_prepago2018 = enero.append(meses, ignore_index=True)\n",
    "#print(f'Dimensión conjunto de datos TOTAL para prepago: {df_prepago2018.shape}',\"\\n\")\n",
    "\n",
    "#Extracción requerimientos vacíos\n",
    "#print(f\"Valores nulos base global prepago:\\n\\n{df_prepago2018.isna().sum()}\",\"\\n\")\n",
    "df_prepago2018.dropna(subset=['Descripción'],inplace=True)\n",
    "df_prepago2018.dropna(subset=['Área'],inplace=True)\n",
    "#print(f\"Valores nulos base global prepago:\\n\\n{df_prepago2018.isna().sum()}\")"
   ]
  },
  {
   "cell_type": "markdown",
   "metadata": {},
   "source": [
    "<a id=\"check1\"></a>\n",
    "---\n",
    "### Creación conjunto de entrenamiento y validación\n",
    "\n",
    "Originalmente se dividieron los datasets de prepago y postpago en conjuntos de entrenamiento y validación con un 85 y 15% de las muestras respectivamente, generando un conjunto de test de 13500 muestras para postpago y 9000 muestras para prepago. <br>\n",
    "\n",
    "__Recordar__ que esos conjuntos se mantendrán a través del tiempo como de evaluación mientras que los de entrenamiento variarán.<br>\n",
    "\n",
    "División en conjuntos de test y validación se generó con __random_state=69__. Para generarlos de nuevo ese es el parámetro de mayor importancia."
   ]
  },
  {
   "cell_type": "code",
   "execution_count": null,
   "metadata": {},
   "outputs": [],
   "source": [
    "#Creación test y entrenamiento\n",
    "train_prepago, test_prepago = train_test_split(df_prepago2018, test_size=0.15,random_state=69)\n",
    "\n",
    "#Guardado en formato Csv (checkpoint_1)\n",
    "destino = os.path.join(root,\"data\",\"checkpoint_prepago_1\")\n",
    "if not os.path.exists(destino):\n",
    "    os.makedirs(destino)\n",
    "    \n",
    "train_prepago.to_csv(os.path.join(destino,\"train_prepago2018.csv\"), encoding='utf-8', index=False)\n",
    "test_prepago.to_csv(os.path.join(destino,\"test_prepago2018.csv\"), encoding='utf-8', index=False)"
   ]
  },
  {
   "cell_type": "markdown",
   "metadata": {},
   "source": [
    "<a id=\"proc1\"></a>\n",
    "---\n",
    "## Procesamiento texto\n",
    "Para el preprocesamiento del texto se realizan cuatro procesos sobre los requerimientos.\n",
    "<ul>\n",
    "    <li> En primer lugar se remueven los caracteres no alfabeticos y se lleva las palabras a minúsculas mediante expresiones regulares.</li>\n",
    "    <li> Posteriormente se remueven las stopwords referentes a nombres, apellidos y palabras misceláneas que no entragan información (marido, señora, etc).</li>\n",
    "    <li> Como tercer paso se corrige ortografía mediante el spellcorrector, este paso abarca mayor cantidad de tiempo del preprocesamiento(99%).</li>\n",
    "    <li> En cuarto lugar se repite el 2do paso.</li>\n",
    "    <li> Como quinto paso se crean los bigramas y trigramas mediante libreria gensim con algoritmo de Mikolov (1).</li>\n",
    "    <li> El sexto paso es remover las stopwords referentes a conectores del lenguaje y derivados (con, no, el, la, etc...).</li>\n",
    "    <li> Finalmente se aplica stemming sobre los requerimientos y se finaliza el preprocesamiento del texto.</li></ul><br>\n",
    "    \n",
    "<img alt=\"Example of alt text\" src=..\\img\\Preprocesado.png title=\"Diagrama esquema preprocesamiento.\"  width=\"width\" height=\"height\" />\n",
    "<center>Figura 1: Diagrama esquema preprocesamiento.</center><br>\n",
    "\n",
    "Específicamente, el procesamiento detallado anteriormente se ejecuta mediante la función __procesamiento_texto__, esta permite realizar pasos especifícamente definidos del diagrama anterior.\n",
    "\n",
    "<a id=\"varios\"></a>\n",
    "\n",
    "### Stemmer y Corrector ortográfico\n",
    "\n",
    "El stemmer a implementar fue el disponible con el __wrapper SpanishStemmer__ de la libreria \"natural language tool kit\" (NLTK) el cual fue creado mediante snowball.\n",
    "\n",
    "La declaración de los métodos de la clase correctora como variables locales se motiva en la reducción de tiempo de localización de los mismos en la memoria por parte del interpretador de python."
   ]
  },
  {
   "cell_type": "code",
   "execution_count": null,
   "metadata": {},
   "outputs": [],
   "source": [
    "stemmer = SpanishStemmer()\n",
    "\n",
    "#Creación objeto para corrección ortografía\n",
    "spell = SpellChecker(language=\"es\")\n",
    "metodo_desconocidas = spell.unknown\n",
    "metodo_correccion = spell.correction "
   ]
  },
  {
   "cell_type": "markdown",
   "metadata": {},
   "source": [
    "<a id=\"blanca\"></a>\n",
    "---\n",
    "#### Lista blanca ortográfica\n",
    "\n",
    "Se puede modificar la lista blanca de palabras aceptadas por el correcto como se muestra a continuación, el método practicamente hace un append sobre la lista que contiene las palabras válidas."
   ]
  },
  {
   "cell_type": "code",
   "execution_count": null,
   "metadata": {},
   "outputs": [],
   "source": [
    "lista_blanca_regiones = [\"Arica\", \"Parinacota\",\"Tarapacá\",\"Antofagasta\",\"Atacama\",\"Coquimbo\",\"Valparaíso\",\"Metropolitana\", \"Santiago\",\"Libertador\",\n",
    "                         \"General\", \"Bernardo\",\"O’Higgins\",\"Maule\",\"Ñuble\",\"Biobío\",\"Araucanía\",\"Ríos\",\"Lagos\",\"Aysén\", \"General\", \"Carlos\", \"Ibáñez\",\n",
    "                         \"Campo\", \"Magallanes\", \"Antártica\"]\n",
    "\n",
    "lista_blanca_telecom = ['lte','whatsapp','instagram','telegram','youtube','facebook','bafi','resetea','samsung','huawei','iphone',\n",
    "                                  'kb','mb','pixi','alcatel','movistar','entel','wom','android','tv','rrss']\n",
    "\n",
    "lista_blanca_telecom.extend(lista_blanca_regiones)\n",
    "lista_blanca = lista_blanca_telecom\n",
    "\n",
    "#Se agregan listas a lista de palabras conocidas por corrector\n",
    "print(spell.known(lista_blanca),\"\\n\")\n",
    "spell.word_frequency.load_words(lista_blanca)\n",
    "print(spell.known(lista_blanca))"
   ]
  },
  {
   "cell_type": "markdown",
   "metadata": {},
   "source": [
    "<a id=\"negra\"></a>\n",
    "---\n",
    "### Lista negra (stopwords) desde csv\n",
    "#### Nombres\n",
    "\n",
    "Para la exclusión de nombres y apellidos tanto de clientes como del operador/a dentro de los requerimientos se crea un un set de una lista con cada token existente __almenos 2 veces en columna Nombre_Cliente__ dentro de la base de postpago.<br>\n",
    "\n",
    "La motivación de una cota inferior es el evitar que sustantivos comunes o verbos colados por error en dicha columna formen parte de la lista de stopwords.<br>\n",
    "\n",
    "En último lugar, debido a la constante aparición de faltas de ortografía en la base se remueven caracteres no alfabéticos dentro de la misma columna."
   ]
  },
  {
   "cell_type": "code",
   "execution_count": null,
   "metadata": {},
   "outputs": [],
   "source": [
    "stopwords_dir = os.path.join(root,\"data\",\"stopwords\")\n",
    "with open(os.path.join(stopwords_dir,\"stopwords_1.csv\"), 'r', encoding=\"utf8\") as f:\n",
    "    reader = csv.reader(f)\n",
    "    stopwords_1 = list(reader)\n",
    "\n",
    "with open(os.path.join(stopwords_dir,\"stopwords_2.csv\"), 'r', encoding=\"utf8\") as f:\n",
    "    reader = csv.reader(f)\n",
    "    stopwords_2 = list(reader)\n",
    "\n",
    "stopwords_1 = [item for sublist in stopwords_1 for item in sublist]\n",
    "stopwords_2 = [item for sublist in stopwords_2 for item in sublist]\n",
    "print(\"Cantidad de palabras lista stopwords nombres y técnicas:\",len(stopwords_1))\n",
    "print(\"Cantidad de palabras lista stopwords lingüistica:\",len(stopwords_2))\n",
    "stopwords_1.extend(stopwords_2)\n",
    "s_w = stopwords_1.copy()\n",
    "print(\"Cantidad de palabras lista stopwords global:\",len(s_w))"
   ]
  },
  {
   "cell_type": "markdown",
   "metadata": {},
   "source": [
    "### Lematizador\n",
    "\n",
    "Implementación del lematizador consiste en reemplazo según una Look-up-table (LUT) creada por Emilio Torres 2011 (España)"
   ]
  },
  {
   "cell_type": "code",
   "execution_count": null,
   "metadata": {},
   "outputs": [],
   "source": [
    "#Import LUT para lematizador\n",
    "lematizador_dir = os.path.join(root,\"data\",\"lematizador\")\n",
    "with open(os.path.join(lematizador_dir,\"lematizador.csv\"), 'r', encoding=\"utf8\") as f:\n",
    "    reader = list(csv.reader(f))\n",
    "    del reader[0]\n",
    "\n",
    "#Creación diccionario lematizador, llaves son valores que se desean lematizar, valores serán resultado lematización.\n",
    "diccionario_lematizador = dict(reader)\n",
    "\n",
    "def lematizar(palabra, dic=diccionario_lematizador):\n",
    "    \"\"\"\n",
    "    Función lematizar, reemplaza palabra por su forma lematizadas (singular y en infinitivo)\n",
    "    :param palabra: palabra a lematizar\n",
    "    :type: str\n",
    "    :param dic; Diccionario a usar como LUT\n",
    "    :type: dict\n",
    "    :return: palabra lematizada\n",
    "    :type: str\n",
    "    \"\"\"\n",
    "    try:\n",
    "        palabra = dic[palabra]\n",
    "    except:\n",
    "        palabra = palabra\n",
    "    return palabra"
   ]
  },
  {
   "cell_type": "markdown",
   "metadata": {},
   "source": [
    "<a id=\"funcion_maestra\"></a>\n",
    "---\n",
    "## Función general de procesamiento\n",
    "\n",
    "Inicialmente se trabaja con expresiones regulares eliminando caracteres no alfanúmericos,mayúsculas y posteriormente se eliminan los números."
   ]
  },
  {
   "cell_type": "code",
   "execution_count": null,
   "metadata": {},
   "outputs": [],
   "source": [
    "#  Funcion replace_all, reemplaza valores de un string según diccionario cuyas llaves son valores a reemplazar y\n",
    "# sus valores la nueva asignación.\n",
    "#  Input: \n",
    "#      Text, String entero (no tokenizado).\n",
    "#      dic, Diccionario, palabras del string no reconocidas por corrector como llaves y respectivas correcciones como valores\n",
    "#  Output:\n",
    "#      Text, String entero con reemplazo de palabras diccionario\n",
    "#  Fuente: #https://stackoverflow.com/questions/6116978/how-to-replace-multiple-substrings-of-a-string\n",
    "def replace_all(text, dic): \n",
    "    for i, j in dic.items():\n",
    "        text = text.replace(i, j)\n",
    "    return text\n",
    "\n",
    "#Función procesamiento_texto, recibe un documento y lo preprocesa con pasos según elección.\n",
    "# Inputs: \n",
    "#     text: DOCUMENTO a preprocesar en FORMATO de STRING, e.g \"Cliente Juan reclama por no tener cobertura.\"\n",
    "#     stop_list: Lista de stopwords a utilizar.\n",
    "#     stemming, stopwords, ortografia y tildes, valores lógicos True or False para incluir dicho procesamiento.\n",
    "# Output: \n",
    "#     Documento preprocesado y en formato de tokens\n",
    "def procesamiento_texto(text, stop_list=s_w, lema=True, stemming=True, stopword=True, ortografia=False, tildes=True):\n",
    "    text=str(text)\n",
    "    #Quitar caracteres no alfa numéricos    \n",
    "    text = re.sub(r'\\n', '', text)              #elimina símbolo de salto de línea\n",
    "    text = text.replace('se?al','señal')        #reemplaza signos de interrogación por símbolo de salto de línea\n",
    "    text = re.sub(r\"\\b%s\\b\" % \"liente\" , \"cliente\", text)\n",
    "    text = re.sub(r\"\\b%s\\b\" % \"iente\" , \"cliente\", text)\n",
    "    text = re.sub(r'\\.', ' ', text)             #reemplaza puntos por un espacio\n",
    "    text = re.sub(r'\\,', ' ', text)             #reemplaza comas por un espacio\n",
    "    text = re.sub(r'[^\\w\\s]','', text)          #elimina los símbolos de puntuación\n",
    "    text = re.sub(r'[0-9]+', ' ', text)         #elimina los caracteres numéricos\n",
    "    text = re.sub(r'\\b\\w{20,}\\b', '', text)     #elimina palabras de 20 o mas caracteres\n",
    "\n",
    "    tokens = text.split()                       #El string es transformado a lista, separador por defecto es un espacio\n",
    "    tokens = [i.lower() for i in tokens]        #Todo a minúsculas\n",
    "    tokens = [i for i in tokens if len(i) > 1 and len(i)<15]  #Eliminar tokens con menos de 2 elementos y mas de 14\n",
    "    \n",
    "    #Stopwords\n",
    "    if stopword == True:\n",
    "        tokens = [i for i in tokens if i not in stop_list]\n",
    "\n",
    "    #Ortografía\n",
    "    if ortografia == True:\n",
    "        espacio = ' '\n",
    "        text = espacio.join(tokens)\n",
    "        ##text = untokenize(tokens)\n",
    "        misspelled = metodo_desconocidas(tokens)# Se identifica aquellas palabras mal escritas\n",
    "        erradas_lista = list(misspelled)        # Redefine variable en clase de interés (serán llaves)\n",
    "\n",
    "        correcciones = []\n",
    "        for word in misspelled:\n",
    "            correcciones.append(metodo_correccion(word))\n",
    "\n",
    "        diccionario = dict(zip(erradas_lista, correcciones))\n",
    "        text = replace_all(text,diccionario)\n",
    "\n",
    "        tokens = text.split()                          ##El string a lista, separador por defecto es un espacio\n",
    "\n",
    "        if stopword == True:\n",
    "            tokens = [i for i in tokens if i not in stop_list]  # Nuevamente se remueven stopwords (caso de que algo se corrigiera a una)\n",
    "\n",
    "    #Lematización, MUY Sensible a ortografía\n",
    "    if lema == True:\n",
    "        aux = []\n",
    "        for palabra in tokens:\n",
    "            aux.append(lematizar(palabra))\n",
    "        tokens = aux\n",
    "\n",
    "    #Stemming\n",
    "    if stemming==True:    \n",
    "        tokens = [stemmer.stem(w) for w in tokens]\n",
    "\n",
    "    #Tildes\n",
    "    if tildes==True:\n",
    "        espacio = ' '\n",
    "        text = espacio.join(tokens)\n",
    "        text = unicodedata.normalize('NFD', text).encode('ascii', 'ignore') #elimina todas marcas de acentuación\n",
    "        text = text.decode(\"utf-8\")             #Devuelve salida linea anterior a formato compatible\n",
    "        tokens = text.split() \n",
    "\n",
    "    return tokens"
   ]
  },
  {
   "cell_type": "markdown",
   "metadata": {},
   "source": [
    "<a id=\"ejemplo1\"></a>\n",
    "---\n",
    "### Ejemplo de uso"
   ]
  },
  {
   "cell_type": "code",
   "execution_count": null,
   "metadata": {
    "scrolled": true
   },
   "outputs": [],
   "source": [
    "t1=time.time()\n",
    "ejemplo = \"Nombre: Catalina Numero: 99999666665555 N.Consulta: 12345678 Rut: 12359654-4 Consulta: Menciona que lleva comprando distintas bolsa de 100MB, pero objeta consumos, ya que no ingresa mucho a internet.\"\n",
    "corregido = procesamiento_texto(ejemplo,stopword = True,lema=False, stemming=False)\n",
    "print('Ejemplo corrección;', corregido, '\\n\\n')\n",
    "\n",
    "t2=time.time()\n",
    "print(t2-t1)"
   ]
  },
  {
   "cell_type": "markdown",
   "metadata": {},
   "source": [
    "<a id=\"aplicación\"></a>\n",
    "---\n",
    "## Implementación\n",
    "<a id=\"carga1\"></a>\n",
    "### Carga conjuntos de entrenamiento y validación\n",
    "Como primer paso a la implementación general se preprocesaron las bases de test para prepagos y postpagos de forma tal que la labor de rotulación por parte del equipo Edo fuese más expedita.<br>\n",
    "\n",
    "Se importan así los 4 conjuntos de interés y sin embargo se procede a trabajar solo con los conjuntos de test.<br>"
   ]
  },
  {
   "cell_type": "code",
   "execution_count": null,
   "metadata": {},
   "outputs": [],
   "source": [
    "#Carga archivos\n",
    "pasado = os.path.join(root,\"data\",\"checkpoint_prepago_1\")\n",
    "with open(os.path.join(pasado,\"train_prepago2018.csv\"), 'r',encoding=\"utf-8\") as f:\n",
    "    reader = csv.reader(f)\n",
    "    train_pp_1 = list(reader)\n",
    "    \n",
    "with open(os.path.join(pasado,\"test_prepago2018.csv\"), 'r',encoding=\"utf-8\") as f:\n",
    "    reader = csv.reader(f)\n",
    "    test_pp_1 = list(reader)\n",
    "\n",
    "\n",
    "train_df = pp_carga(train_pp_1)           #DF\n",
    "test_df = pp_carga(test_pp_1)\n",
    "\n",
    "corpus_train = list(train_df[\"Descripción\"])#Corpus\n",
    "corpus_test = list(test_df[\"Descripción\"])\n",
    "print(\"Largo conjunto entrenamiento:\", len(corpus_train))\n",
    "print(\"Largo conjunto test:\", len(corpus_test))"
   ]
  },
  {
   "cell_type": "markdown",
   "metadata": {},
   "source": [
    "<a id=\"completa\"></a>\n",
    "---\n",
    "##  Preprocesado básico"
   ]
  },
  {
   "cell_type": "code",
   "execution_count": null,
   "metadata": {},
   "outputs": [],
   "source": [
    "#parámetros para preprocesado basico y stopwords\n",
    "mapfunc = partial(defs.procesamiento_texto, lema=False, stemming=False, stopword=True, ortografia=True,tildes=True)\n",
    "\n",
    "if __name__ == '__main__':\n",
    "    corpus_train_procesado = p_map(mapfunc,corpus_train)\n",
    "    corpus_test_procesado = p_map(mapfunc,corpus_test)\n",
    "    \n",
    "    espacio = ' '\n",
    "    corpus_train_procesado = [espacio.join(text) for text in corpus_train_procesado]\n",
    "    corpus_test_procesado = [espacio.join(text) for text in corpus_test_procesado]    \n",
    "    \n",
    "    train_df[\"Descripción\"] = corpus_train_procesado\n",
    "    test_df[\"Descripción\"] = corpus_test_procesado\n",
    "    \n",
    "    \n",
    "    #Guardado en formato Csv (checkpoint_2)\n",
    "    destino = os.path.join(root,\"data\",\"checkpoint_prepago_2\")\n",
    "    if not os.path.exists(destino):\n",
    "        os.makedirs(destino)\n",
    "\n",
    "    train_df.to_csv(os.path.join(destino,\"train_prepago2018_procesado.csv\"), encoding='utf-8', index=False)\n",
    "    test_df.to_csv(os.path.join(destino,\"test_prepago2018_procesado.csv\"), encoding='utf-8', index=False)"
   ]
  },
  {
   "cell_type": "code",
   "execution_count": null,
   "metadata": {},
   "outputs": [],
   "source": [
    "#Carga archivos\n",
    "checkpoint2 = os.path.join(root,\"data\",\"checkpoint_prepago_2\",\"\")\n",
    "with open(checkpoint2+\"train_prepago2018_procesado.csv\", 'r',encoding=\"utf-8\") as f:\n",
    "    reader = csv.reader(f)\n",
    "    train_pp_2 = list(reader)\n",
    "    train_df = pp_carga(train_pp_2)           #DF\n",
    "    \n",
    "with open(checkpoint2+\"test_prepago2018_procesado.csv\", 'r',encoding=\"utf-8\") as f:\n",
    "    reader = csv.reader(f)\n",
    "    test_pp_2 = list(reader)\n",
    "    test_df = pp_carga(test_pp_2)\n",
    "    \n",
    "corpus_train_procesado = train_df[\"Descripción\"]\n",
    "corpus_test_procesado = test_df[\"Descripción\"]"
   ]
  },
  {
   "cell_type": "markdown",
   "metadata": {},
   "source": [
    "<a id=\"bigramas\"></a>\n",
    "---\n",
    "##  N-GRAMAS"
   ]
  },
  {
   "cell_type": "code",
   "execution_count": null,
   "metadata": {},
   "outputs": [],
   "source": [
    "#Formato tokens\n",
    "tokens_train = [text.split() for text in corpus_train_procesado]\n",
    "tokens_test = [text.split() for text in corpus_test_procesado]\n",
    "\n",
    "#Bigramas y trigramas con stopwords (generadores)\n",
    "bigram = Phrases(tokens_train, min_count=500, threshold=3, delimiter=b'_')\n",
    "bigram_phraser = Phraser(bigram)\n",
    "trigram = Phrases(bigram_phraser[tokens_train],min_count=500, threshold=3, delimiter=b'_')\n",
    "\n",
    "#Adhesión de los mismos al corpus DE TRAIN (implementación generadores)\n",
    "corpus_trigrama = []\n",
    "for sent in tokens_train:\n",
    "    bigrams_ = bigram_phraser[sent]\n",
    "    trigrams_ = trigram[bigrams_]\n",
    "    \n",
    "    corpus_trigrama.append(trigrams_)\n",
    "\n",
    "#Adhesión de los mismos al corpus DE TEST\n",
    "corpus_trigrama_test = []\n",
    "for sent in tokens_test:\n",
    "    bigrams_ = bigram_phraser[sent]\n",
    "    trigrams_ = trigram[bigrams_]\n",
    "    corpus_trigrama_test.append(trigrams_)\n",
    "    \n",
    "#Impresion algunos bigramas y trigramas\n",
    "print(\"Algunos n-gramas formados\\n\\n\")\n",
    "for doc in corpus_trigrama[0:1]:\n",
    "    for palabra in doc:\n",
    "        if len(re.split('[^a-zA-Z]', palabra))==3:\n",
    "            print(\"TRIGRAMA: \", palabra,\"\\n\")\n",
    "        if len(re.split('[^a-zA-Z]', palabra))==2:\n",
    "            print(\"BIGRAMA: \", palabra,\"\\n\")\n",
    "\n",
    "            \n",
    "#Ordenamiento N-gramas por frecuencia (BIGRAMAS ORIGINALES)\n",
    "from collections import Counter\n",
    "trigram_counter_2 = Counter()\n",
    "\n",
    "for key in trigram.vocab.keys():\n",
    "    if len(key.decode('utf-8').split(\"_\")) > 1:\n",
    "        trigram_counter_2[key] += trigram.vocab[key]\n",
    "\n",
    "print(\"Top 10 n-gramas más comunes:\\n\")\n",
    "for key, counts in trigram_counter_2.most_common(10):\n",
    "    print (key.decode('utf-8'),counts)\n",
    "\n",
    "#Re-formateo para guardado\n",
    "espacio = ' '\n",
    "corpus_trigrama = [espacio.join(text) for text in corpus_trigrama]\n",
    "corpus_trigrama_test = [espacio.join(text) for text in corpus_trigrama_test]    \n",
    "train_df[\"Descripción\"] = corpus_trigrama\n",
    "test_df[\"Descripción\"] = corpus_trigrama_test\n",
    "\n",
    "\n",
    "\n",
    "#Guardado en formato Csv (checkpoint_3)\n",
    "destino = os.path.join(root,\"data\",\"checkpoint_prepago_3\")\n",
    "if not os.path.exists(destino):\n",
    "    os.makedirs(destino)\n",
    "\n",
    "train_df.to_csv(os.path.join(destino,\"train_prepago2018_procesado.csv\"), encoding='utf-8', index=False)\n",
    "test_df.to_csv(os.path.join(destino,\"test_prepago2018_procesado.csv\"), encoding='utf-8', index=False)\n",
    "trigram.save(os.path.join(destino,\"trigramer\"))"
   ]
  },
  {
   "cell_type": "markdown",
   "metadata": {},
   "source": [
    "## Stemming y lematización"
   ]
  },
  {
   "cell_type": "code",
   "execution_count": null,
   "metadata": {},
   "outputs": [],
   "source": [
    "#Carga archivos\n",
    "checkpoint3 = os.path.join(root,\"data\",\"checkpoint_prepago_3\",\"\")\n",
    "with open(checkpoint3+\"train_prepago2018_procesado.csv\", 'r',encoding=\"utf-8\") as f:\n",
    "    reader = csv.reader(f)\n",
    "    train_pp = list(reader)\n",
    "    train_df = pp_carga(train_pp)\n",
    "    \n",
    "with open(checkpoint3+\"test_prepago2018_procesado.csv\", 'r',encoding=\"utf-8\") as f:\n",
    "    reader = csv.reader(f)\n",
    "    test_pp = list(reader)\n",
    "    test_df = pp_carga(test_pp)\n",
    "    \n",
    "corpus_train_procesado = list(train_df[\"Descripción\"])\n",
    "corpus_test_procesado = list(test_df[\"Descripción\"])"
   ]
  },
  {
   "cell_type": "code",
   "execution_count": null,
   "metadata": {},
   "outputs": [],
   "source": [
    "#Parámetros para stemming y lemma\n",
    "mapfunc = partial(defs.procesamiento_texto, lema=True, stemming=True, stopword=False, ortografia=False, tildes=False)\n",
    "\n",
    "if __name__ == '__main__':\n",
    "    corpus_train_procesado = p_map(mapfunc,(corpus_train_procesado))\n",
    "    corpus_test_procesado = p_map(mapfunc,(corpus_test_procesado))\n",
    "    \n",
    "    espacio = ' '\n",
    "    corpus_train_procesado = [espacio.join(text) for text in corpus_train_procesado]\n",
    "    corpus_test_procesado = [espacio.join(text) for text in corpus_test_procesado]    \n",
    "    \n",
    "    train_df[\"Descripción\"] = corpus_train_procesado\n",
    "    test_df[\"Descripción\"] = corpus_test_procesado\n",
    "    \n",
    "    \n",
    "    #Guardado en formato Csv (checkpoint_4)\n",
    "    destino = os.path.join(root,\"data\",\"checkpoint_prepago_4\")\n",
    "    if not os.path.exists(destino):\n",
    "        os.makedirs(destino)\n",
    "        \n",
    "    train_df.to_csv(os.path.join(destino,\"train_prepago2018_procesado.csv\"), encoding='utf-8', index=False)\n",
    "    test_df.to_csv(os.path.join(destino,\"test_prepago2018_procesado.csv\"), encoding='utf-8', index=False)"
   ]
  },
  {
   "cell_type": "markdown",
   "metadata": {},
   "source": [
    "<a id=\"preplda\"></a>\n",
    "---\n",
    "# Preparación LDA Gensim\n",
    "<a id=\"preparacion\"></a><br>\n",
    "\n",
    "\n",
    "Se carga checkpoint 4, se cambia a formato de tokens"
   ]
  },
  {
   "cell_type": "code",
   "execution_count": 16,
   "metadata": {},
   "outputs": [],
   "source": [
    "#Carga archivos\n",
    "checkpoint4 = os.path.join(root,\"data\",\"checkpoint_prepago_4\",\"\")\n",
    "with open(checkpoint4+\"train_prepago2018_procesado.csv\", 'r',encoding=\"utf-8\") as f:\n",
    "    reader = csv.reader(f)\n",
    "    train_pp = list(reader)\n",
    "    train_df = pp_carga(train_pp)\n",
    "    \n",
    "with open(checkpoint4+\"test_prepago2018_procesado.csv\", 'r',encoding=\"utf-8\") as f:\n",
    "    reader = csv.reader(f)\n",
    "    test_pp = list(reader)\n",
    "    test_df = pp_carga(test_pp)\n",
    "    \n",
    "corpus_train_procesado = list(train_df[\"Descripción\"])\n",
    "corpus_test_procesado = list(test_df[\"Descripción\"])"
   ]
  },
  {
   "cell_type": "markdown",
   "metadata": {},
   "source": [
    "<a id=\"prep1\"></a>\n",
    "---\n",
    "### Creación bolsa de palabras y preparación corpus\n",
    "\n",
    "Para efectos del algoritmo LDA con Gensim se requiere de una bolsa de palabras (Bag of Words i.e BoW) compuesta en una lista cuyos elementos son todas las palabras que se encuentren al menos una vez en el corpus.<br>\n",
    "\n",
    "En cuanto al corpus, para __manipulacion con pandas__, se requiere que este se presente como una lista cuyos elementos son los documentos en formato de un único string i.e __single string.__<br>\n",
    "\n",
    "Para __manipulacion con gensim__ lda este debe espera: doc2bow expects an array of unicode tokens on input, __not a single string__"
   ]
  },
  {
   "cell_type": "code",
   "execution_count": 17,
   "metadata": {},
   "outputs": [
    {
     "name": "stdout",
     "output_type": "stream",
     "text": [
      "Elementos vocabulario:  6222\n"
     ]
    },
    {
     "data": {
      "text/plain": [
       "[('no', 12182),\n",
       " ('numer', 7489),\n",
       " ('bols', 6570),\n",
       " ('client', 5091),\n",
       " ('recarg', 4448),\n",
       " ('llam', 2876),\n",
       " ('sald', 2425),\n",
       " ('naveg', 2184),\n",
       " ('realiz', 1928),\n",
       " ('problem', 1890),\n",
       " ('indic', 1781),\n",
       " ('comun', 1780),\n",
       " ('si', 1705),\n",
       " ('compr', 1648),\n",
       " ('verific', 1631),\n",
       " ('consult', 1466),\n",
       " ('cliente_ind', 1435),\n",
       " ('hac', 1319),\n",
       " ('pes', 1295),\n",
       " ('servici', 1216),\n",
       " ('fech', 1195),\n",
       " ('dificult', 1164),\n",
       " ('equip', 1132),\n",
       " ('usuari', 1113),\n",
       " ('ingres', 1113),\n",
       " ('cobertur', 1105),\n",
       " ('rrss', 1076),\n",
       " ('movil', 1042),\n",
       " ('app', 1007),\n",
       " ('activ', 1001),\n",
       " ('lleg', 952),\n",
       " ('lin', 951),\n",
       " ('lug', 951),\n",
       " ('senal', 948),\n",
       " ('gener', 911),\n",
       " ('mb', 895),\n",
       " ('region', 887),\n",
       " ('plan', 864),\n",
       " ('solucion', 849),\n",
       " ('dia', 845),\n",
       " ('aparec', 833),\n",
       " ('medi', 832),\n",
       " ('solicit', 818),\n",
       " ('reclam', 815),\n",
       " ('mont', 776),\n",
       " ('pod', 703),\n",
       " ('mensaj', 686),\n",
       " ('motiv', 678),\n",
       " ('ilimit', 664),\n",
       " ('consum', 662),\n",
       " ('des', 638),\n",
       " ('telefon', 626),\n",
       " ('sms', 621),\n",
       " ('web', 603),\n",
       " ('centilitr', 597),\n",
       " ('inform', 595),\n",
       " ('voz', 586),\n",
       " ('registr', 585),\n",
       " ('chip', 576),\n",
       " ('permit', 566),\n",
       " ('entreg', 562),\n",
       " ('red', 558),\n",
       " ('aun', 530),\n",
       " ('model', 530),\n",
       " ('fecha_problem', 526),\n",
       " ('hor', 508),\n",
       " ('valid', 507),\n",
       " ('acced', 507),\n",
       " ('encontr', 506),\n",
       " ('gb', 502),\n",
       " ('intent', 502),\n",
       " ('pagin', 482),\n",
       " ('sal', 482),\n",
       " ('navegacion', 481),\n",
       " ('envi', 480),\n",
       " ('mensaje_error', 479),\n",
       " ('correct', 479),\n",
       " ('sistem', 457),\n",
       " ('carg', 456),\n",
       " ('portal', 453),\n",
       " ('punt', 445),\n",
       " ('error', 431),\n",
       " ('comunic', 430),\n",
       " ('mb_vig', 430),\n",
       " ('comprar_bols', 427),\n",
       " ('prom', 426),\n",
       " ('ningun', 416),\n",
       " ('redes_social', 405),\n",
       " ('pos', 403),\n",
       " ('autoriz', 397),\n",
       " ('dec', 396),\n",
       " ('descont', 389),\n",
       " ('dias', 385),\n",
       " ('recib', 381),\n",
       " ('inconvenient', 377),\n",
       " ('sms_error', 376),\n",
       " ('ped', 361),\n",
       " ('nuev', 360),\n",
       " ('propon', 357),\n",
       " ('vig', 350),\n",
       " ('mes', 348),\n",
       " ('bam', 347),\n",
       " ('fecha_hor', 342),\n",
       " ('pas', 339),\n",
       " ('vez', 338),\n",
       " ('detall', 336),\n",
       " ('quer', 332),\n",
       " ('present', 328),\n",
       " ('mencion', 326),\n",
       " ('anterior', 325),\n",
       " ('internet', 323),\n",
       " ('minut', 321),\n",
       " ('moment', 317),\n",
       " ('banc', 316),\n",
       " ('import', 315),\n",
       " ('utiliz', 310),\n",
       " ('ir', 306),\n",
       " ('reinici', 305),\n",
       " ('mism', 304),\n",
       " ('informacion', 300),\n",
       " ('devolucion', 297),\n",
       " ('saldo_auxili', 295),\n",
       " ('usar', 295),\n",
       " ('solicitud', 292),\n",
       " ('deb', 291),\n",
       " ('zon', 290),\n",
       " ('cort', 289),\n",
       " ('ns', 285),\n",
       " ('baj', 285),\n",
       " ('incorrect', 285),\n",
       " ('caja_vecin', 284),\n",
       " ('prepag', 281),\n",
       " ('suspend', 281),\n",
       " ('ser', 278),\n",
       " ('alto', 268),\n",
       " ('person', 267),\n",
       " ('prueba_cruz', 266),\n",
       " ('modelo_samsung', 262),\n",
       " ('gb_vig', 258),\n",
       " ('qued', 257),\n",
       " ('codig', 257),\n",
       " ('promocion', 255),\n",
       " ('respuest', 255),\n",
       " ('ver', 250),\n",
       " ('pm', 246),\n",
       " ('wifi_apag', 242),\n",
       " ('dispon', 239),\n",
       " ('pantalla_movil', 237),\n",
       " ('clpdiner', 235),\n",
       " ('favor', 234),\n",
       " ('habilit', 234),\n",
       " ('ayer', 229),\n",
       " ('activacion', 229),\n",
       " ('rrss_music', 225),\n",
       " ('cambi', 224),\n",
       " ('contingent', 221),\n",
       " ('seman', 221),\n",
       " ('tod', 218),\n",
       " ('contest', 218),\n",
       " ('presta_luk', 217),\n",
       " ('prestaluk', 217),\n",
       " ('trav', 217),\n",
       " ('hoy', 215),\n",
       " ('sms_vig', 215),\n",
       " ('comuna_region', 211),\n",
       " ('direccion', 211),\n",
       " ('asoci', 209),\n",
       " ('asum', 203),\n",
       " ('galaxy', 201),\n",
       " ('beneficio_rrss', 199),\n",
       " ('dar', 197),\n",
       " ('finaliz', 197),\n",
       " ('bolsas_act', 196),\n",
       " ('canjear_punt', 193),\n",
       " ('comunicacion', 193),\n",
       " ('canj', 188),\n",
       " ('transaccion', 186),\n",
       " ('servicio_voz', 185),\n",
       " ('vig_diasbols', 185),\n",
       " ('objet', 183),\n",
       " ('maner', 182),\n",
       " ('dado_prom', 182),\n",
       " ('trafic', 181),\n",
       " ('esper', 179),\n",
       " ('bloqu', 178),\n",
       " ('benefici', 177),\n",
       " ('negoci', 177),\n",
       " ('referenci', 177),\n",
       " ('cod', 177),\n",
       " ('ok', 177),\n",
       " ('configuracion', 177),\n",
       " ('nro', 176),\n",
       " ('pagina_web', 175),\n",
       " ('visualiz', 173),\n",
       " ('afect', 173),\n",
       " ('mal', 172),\n",
       " ('lit', 171),\n",
       " ('tampoc', 170),\n",
       " ('factibil', 169),\n",
       " ('mb_deba_pp', 169),\n",
       " ('posibl', 167),\n",
       " ('am', 166),\n",
       " ('rr', 165),\n",
       " ('program', 163),\n",
       " ('descripcion', 163),\n",
       " ('sim', 163),\n",
       " ('primer', 162),\n",
       " ('tarjet', 162),\n",
       " ('sector', 162),\n",
       " ('regular', 161),\n",
       " ('dia_hoy', 161),\n",
       " ('pag', 160),\n",
       " ('skype', 157),\n",
       " ('requer', 157),\n",
       " ('ayud', 156),\n",
       " ('funcion', 156),\n",
       " ('actual', 154),\n",
       " ('cobr', 154),\n",
       " ('bytes_deb', 153),\n",
       " ('deud', 152),\n",
       " ('rap', 152),\n",
       " ('av', 151),\n",
       " ('cap_pr', 151),\n",
       " ('n_movil', 151),\n",
       " ('nombr', 151),\n",
       " ('valor', 150),\n",
       " ('termin', 150),\n",
       " ('sumarte_ns', 150),\n",
       " ('anul', 149),\n",
       " ('conect', 149),\n",
       " ('necesit', 148),\n",
       " ('fall', 147),\n",
       " ('contrat', 147),\n",
       " ('ahor', 147),\n",
       " ('whatsapp_d', 147),\n",
       " ('cancel', 146),\n",
       " ('ultim', 146),\n",
       " ('valparais', 145),\n",
       " ('aplicacion', 145),\n",
       " ('dej', 145),\n",
       " ('aplic', 144),\n",
       " ('favorit', 144),\n",
       " ('supervisor', 144),\n",
       " ('huawei', 144),\n",
       " ('voic', 143),\n",
       " ('nocturn', 143),\n",
       " ('sab', 142),\n",
       " ('oper', 142),\n",
       " ('segu', 141),\n",
       " ('celul', 141)]"
      ]
     },
     "execution_count": 17,
     "metadata": {},
     "output_type": "execute_result"
    }
   ],
   "source": [
    "#Formato para BoW y Gensim\n",
    "corpus_train_procesado = [text.split() for text in corpus_test_procesado]\n",
    "corpus_test_procesado = [text.split() for text in corpus_test_procesado]\n",
    "\n",
    "#BoW\n",
    "vocabulary = set()\n",
    "for doc in corpus_train_procesado:\n",
    "    vocabulary  |=set(doc)       \n",
    "vocabulary = list(vocabulary)\n",
    "print(\"Elementos vocabulario: \",len(vocabulary))\n",
    "\n",
    "#Palabras más comunes\n",
    "flat_corpus = [item for sublist in corpus_train_procesado for item in sublist]\n",
    "counter_obj = Counter(flat_corpus)\n",
    "counter_obj.most_common(250) #counter_obj.most_common(n=10)"
   ]
  },
  {
   "cell_type": "markdown",
   "metadata": {},
   "source": [
    "<a id=\"gensim\"></a>\n",
    "## LDA con Gensim\n",
    "\n",
    "Guia práctica text mining\n",
    "https://www.machinelearningplus.com/nlp/topic-modeling-gensim-python/\n",
    "\n",
    "Eleccion cantidad de topicos\n",
    "https://www.knime.com/blog/topic-extraction-optimizing-the-number-of-topics-with-the-elbow-method\n",
    "\n",
    "<a id=\"corpusfinal\"></a>\n",
    "## Preparación Corpus, creación diccionario y corpus final\n",
    "\n",
    "Crear diccionario -> Transformación doc2bow corpus (mapeo)<br>\n",
    "\n",
    "<p style=\"font-size:100%;color:red;\">Variaciones sobre definición de diccionario influiran directamente en desempeño modelo.</p>"
   ]
  },
  {
   "cell_type": "code",
   "execution_count": 18,
   "metadata": {},
   "outputs": [
    {
     "name": "stdout",
     "output_type": "stream",
     "text": [
      "Elementos vocabulario con frecuencia >=  200 : 150 \n",
      "\n",
      "Primer elemento del diccionario o bolsa de palabras: bols \n",
      "\n",
      "Ejemplo representación texto en formato para Gensim:\n",
      " [(2, 1), (3, 1), (9, 1), (23, 1), (29, 2), (54, 1), (55, 1), (56, 1)]\n"
     ]
    }
   ],
   "source": [
    "#Diccionario\n",
    "dictionary = Dictionary(corpus_train_procesado)\n",
    "\n",
    "# Exclusión de palabras que aparescan menos de 200 veces (en 0,26% de las muestras)\n",
    "fmin = 200\n",
    "dictionary.filter_extremes(no_below=fmin)\n",
    "print(\"Elementos vocabulario con frecuencia >= \",fmin,\":\", len(dictionary),\"\\n\")\n",
    "\n",
    "#Creación Term-Document Frequency\n",
    "corpus_final = [dictionary.doc2bow(text) for text in corpus_train_procesado]\n",
    "corpus_test  = [dictionary.doc2bow(text) for text in corpus_test_procesado]\n",
    "print('Primer elemento del diccionario o bolsa de palabras:', dictionary[0],\"\\n\")\n",
    "print('Ejemplo representación texto en formato para Gensim:\\n', corpus_final[10] )"
   ]
  },
  {
   "cell_type": "markdown",
   "metadata": {},
   "source": [
    "<a id=\"entrenamiento_modelo\"></a>\n",
    "---\n",
    "## Entrenamiento modelo con 4 Tópicos"
   ]
  },
  {
   "cell_type": "code",
   "execution_count": 19,
   "metadata": {},
   "outputs": [
    {
     "name": "stdout",
     "output_type": "stream",
     "text": [
      "Entrenamiento modelo en  51.98094916343689 segundos\n",
      "\n"
     ]
    },
    {
     "data": {
      "text/plain": [
       "[(0,\n",
       "  '0.069*\"client\" + 0.043*\"movil\" + 0.042*\"lin\" + 0.037*\"si\" + 0.034*\"equip\" + 0.031*\"activ\" + 0.028*\"indic\" + 0.026*\"realiz\" + 0.025*\"verific\" + 0.023*\"chip\"'),\n",
       " (1,\n",
       "  '0.123*\"bols\" + 0.105*\"naveg\" + 0.046*\"rrss\" + 0.040*\"si\" + 0.033*\"mb\" + 0.031*\"comun\" + 0.030*\"cobertur\" + 0.029*\"lug\" + 0.022*\"client\" + 0.019*\"equip\"'),\n",
       " (2,\n",
       "  '0.067*\"client\" + 0.043*\"app\" + 0.042*\"ingres\" + 0.042*\"fech\" + 0.026*\"punt\" + 0.025*\"compr\" + 0.024*\"medi\" + 0.024*\"acced\" + 0.024*\"portal\" + 0.023*\"entreg\"'),\n",
       " (3,\n",
       "  '0.180*\"bols\" + 0.140*\"recarg\" + 0.029*\"mont\" + 0.029*\"compr\" + 0.026*\"verific\" + 0.024*\"consum\" + 0.024*\"ilimit\" + 0.021*\"sald\" + 0.021*\"client\" + 0.021*\"pes\"'),\n",
       " (4,\n",
       "  '0.082*\"llam\" + 0.065*\"problem\" + 0.054*\"comun\" + 0.043*\"region\" + 0.039*\"senal\" + 0.036*\"client\" + 0.035*\"cobertur\" + 0.033*\"dificult\" + 0.029*\"hac\" + 0.023*\"telefon\"'),\n",
       " (5,\n",
       "  '0.073*\"client\" + 0.068*\"sald\" + 0.053*\"recarg\" + 0.051*\"llam\" + 0.036*\"realiz\" + 0.035*\"pes\" + 0.033*\"consult\" + 0.023*\"plan\" + 0.022*\"gener\" + 0.021*\"compr\"')]"
      ]
     },
     "metadata": {},
     "output_type": "display_data"
    }
   ],
   "source": [
    "t1 = time.time()\n",
    "lda = LdaModel(corpus=corpus_final,minimum_probability=0.0001, id2word=dictionary, num_topics=6, alpha='auto', eta='auto',update_every=1, chunksize=5000, passes=8,  random_state=2) \n",
    "print(\"Entrenamiento modelo en \",time.time()-t1 ,\"segundos\\n\")\n",
    "display(lda.show_topics(num_topics=6, num_words=10, log=False, formatted=True))"
   ]
  },
  {
   "cell_type": "markdown",
   "metadata": {},
   "source": [
    "<a id=\"ldavis\"></a>\n",
    "### LDAVIS\n",
    "Se propone método de visualización resultado obtenido por modelo LDA, se muestran los distintos topicos caracterizados como clusters visuales en un espacio 2 dimensional de componentes principales, el area de los mismos es proporcional a la probabilidad marginal de aparicion de cada uno (i.e la proporcion de muestras que los componen con respecto del total de muestras).<br>\n",
    "\n",
    "La caracterización de los mismos permite visualizar las palabraas principales que los caracterizan según la relevancia de las mismass (__Sievert, Shirley)__.<br>\n",
    "\n",
    "Referencia: http://vis.stanford.edu/files/2012-Termite-AVI.pdf"
   ]
  },
  {
   "cell_type": "code",
   "execution_count": 20,
   "metadata": {},
   "outputs": [
    {
     "name": "stderr",
     "output_type": "stream",
     "text": [
      "C:\\ProgramData\\Anaconda3\\lib\\site-packages\\pyLDAvis\\_prepare.py:257: FutureWarning: Sorting because non-concatenation axis is not aligned. A future version\n",
      "of pandas will change to not sort by default.\n",
      "\n",
      "To accept the future behavior, pass 'sort=False'.\n",
      "\n",
      "To retain the current behavior and silence the warning, pass 'sort=True'.\n",
      "\n",
      "  return pd.concat([default_term_info] + list(topic_dfs))\n"
     ]
    },
    {
     "data": {
      "text/html": [
       "\n",
       "<link rel=\"stylesheet\" type=\"text/css\" href=\"https://cdn.rawgit.com/bmabey/pyLDAvis/files/ldavis.v1.0.0.css\">\n",
       "\n",
       "\n",
       "<div id=\"ldavis_el84413207792592407120148658\"></div>\n",
       "<script type=\"text/javascript\">\n",
       "\n",
       "var ldavis_el84413207792592407120148658_data = {\"mdsDat\": {\"x\": [-0.1913543555522668, -0.13393130765144254, 0.13583595012188993, -0.053945164577576935, 0.17204779696163425, 0.07134708069776166], \"y\": [-0.16964337274391225, 0.08211938861368615, -0.196629572328144, 0.15679313572531622, 0.0458503283948209, 0.08151009233823307], \"topics\": [1, 2, 3, 4, 5, 6], \"cluster\": [1, 1, 1, 1, 1, 1], \"Freq\": [20.295499801635742, 20.18045425415039, 16.95988655090332, 15.923672676086426, 14.151342391967773, 12.489150047302246]}, \"tinfo\": {\"Category\": [\"Default\", \"Default\", \"Default\", \"Default\", \"Default\", \"Default\", \"Default\", \"Default\", \"Default\", \"Default\", \"Default\", \"Default\", \"Default\", \"Default\", \"Default\", \"Default\", \"Default\", \"Default\", \"Default\", \"Default\", \"Default\", \"Default\", \"Default\", \"Default\", \"Default\", \"Default\", \"Default\", \"Default\", \"Default\", \"Default\", \"Topic1\", \"Topic1\", \"Topic1\", \"Topic1\", \"Topic1\", \"Topic1\", \"Topic1\", \"Topic1\", \"Topic1\", \"Topic1\", \"Topic1\", \"Topic1\", \"Topic1\", \"Topic1\", \"Topic1\", \"Topic1\", \"Topic1\", \"Topic1\", \"Topic1\", \"Topic1\", \"Topic1\", \"Topic1\", \"Topic1\", \"Topic1\", \"Topic1\", \"Topic1\", \"Topic1\", \"Topic1\", \"Topic1\", \"Topic1\", \"Topic1\", \"Topic1\", \"Topic1\", \"Topic1\", \"Topic1\", \"Topic1\", \"Topic1\", \"Topic2\", \"Topic2\", \"Topic2\", \"Topic2\", \"Topic2\", \"Topic2\", \"Topic2\", \"Topic2\", \"Topic2\", \"Topic2\", \"Topic2\", \"Topic2\", \"Topic2\", \"Topic2\", \"Topic2\", \"Topic2\", \"Topic2\", \"Topic2\", \"Topic2\", \"Topic2\", \"Topic2\", \"Topic2\", \"Topic2\", \"Topic2\", \"Topic2\", \"Topic2\", \"Topic2\", \"Topic2\", \"Topic2\", \"Topic2\", \"Topic2\", \"Topic2\", \"Topic2\", \"Topic2\", \"Topic2\", \"Topic2\", \"Topic2\", \"Topic2\", \"Topic2\", \"Topic2\", \"Topic2\", \"Topic2\", \"Topic2\", \"Topic3\", \"Topic3\", \"Topic3\", \"Topic3\", \"Topic3\", \"Topic3\", \"Topic3\", \"Topic3\", \"Topic3\", \"Topic3\", \"Topic3\", \"Topic3\", \"Topic3\", \"Topic3\", \"Topic3\", \"Topic3\", \"Topic3\", \"Topic3\", \"Topic3\", \"Topic3\", \"Topic3\", \"Topic3\", \"Topic3\", \"Topic3\", \"Topic3\", \"Topic3\", \"Topic3\", \"Topic3\", \"Topic3\", \"Topic3\", \"Topic3\", \"Topic3\", \"Topic3\", \"Topic3\", \"Topic3\", \"Topic3\", \"Topic3\", \"Topic3\", \"Topic3\", \"Topic3\", \"Topic4\", \"Topic4\", \"Topic4\", \"Topic4\", \"Topic4\", \"Topic4\", \"Topic4\", \"Topic4\", \"Topic4\", \"Topic4\", \"Topic4\", \"Topic4\", \"Topic4\", \"Topic4\", \"Topic4\", \"Topic4\", \"Topic4\", \"Topic4\", \"Topic4\", \"Topic4\", \"Topic4\", \"Topic4\", \"Topic4\", \"Topic4\", \"Topic4\", \"Topic4\", \"Topic4\", \"Topic4\", \"Topic4\", \"Topic4\", \"Topic4\", \"Topic4\", \"Topic4\", \"Topic4\", \"Topic4\", \"Topic4\", \"Topic4\", \"Topic4\", \"Topic4\", \"Topic4\", \"Topic5\", \"Topic5\", \"Topic5\", \"Topic5\", \"Topic5\", \"Topic5\", \"Topic5\", \"Topic5\", \"Topic5\", \"Topic5\", \"Topic5\", \"Topic5\", \"Topic5\", \"Topic5\", \"Topic5\", \"Topic5\", \"Topic5\", \"Topic5\", \"Topic5\", \"Topic5\", \"Topic5\", \"Topic5\", \"Topic5\", \"Topic5\", \"Topic5\", \"Topic5\", \"Topic5\", \"Topic5\", \"Topic5\", \"Topic5\", \"Topic5\", \"Topic5\", \"Topic5\", \"Topic5\", \"Topic5\", \"Topic5\", \"Topic5\", \"Topic6\", \"Topic6\", \"Topic6\", \"Topic6\", \"Topic6\", \"Topic6\", \"Topic6\", \"Topic6\", \"Topic6\", \"Topic6\", \"Topic6\", \"Topic6\", \"Topic6\", \"Topic6\", \"Topic6\", \"Topic6\", \"Topic6\", \"Topic6\", \"Topic6\", \"Topic6\", \"Topic6\", \"Topic6\", \"Topic6\", \"Topic6\", \"Topic6\", \"Topic6\", \"Topic6\", \"Topic6\", \"Topic6\", \"Topic6\", \"Topic6\", \"Topic6\", \"Topic6\", \"Topic6\", \"Topic6\", \"Topic6\", \"Topic6\", \"Topic6\", \"Topic6\", \"Topic6\"], \"Freq\": [6546.0, 4379.0, 2235.0, 2885.0, 1140.0, 1105.0, 892.0, 1000.0, 1800.0, 930.0, 2391.0, 1890.0, 1700.0, 936.0, 1279.0, 1109.0, 912.0, 1043.0, 1193.0, 759.0, 452.0, 819.0, 5094.0, 1127.0, 1158.0, 858.0, 652.0, 660.0, 460.0, 991.0, 337.06781005859375, 275.90667724609375, 296.24700927734375, 246.71038818359375, 639.3634033203125, 328.7918395996094, 529.4208984375, 529.3448486328125, 263.7094421386719, 3092.683837890625, 294.9053955078125, 156.7932586669922, 153.77406311035156, 3972.726318359375, 390.9382019042969, 413.3253173828125, 176.13153076171875, 121.73651123046875, 217.6386260986328, 629.7514038085938, 180.31878662109375, 456.31231689453125, 578.4950561523438, 203.78521728515625, 131.9274444580078, 306.9621276855469, 282.77789306640625, 270.3074645996094, 284.8561096191406, 288.22381591796875, 465.1532287597656, 290.2860107421875, 458.7735595703125, 288.2787780761719, 213.69117736816406, 244.41529846191406, 215.29107666015625, 328.5406188964844, 245.44374084472656, 234.14195251464844, 223.0728302001953, 257.65484619140625, 222.7235565185547, 1491.2890625, 399.3828125, 770.3543701171875, 511.2837829589844, 173.7906494140625, 177.51846313476562, 155.7940216064453, 490.7323913574219, 220.16424560546875, 118.76795959472656, 190.92205810546875, 434.2146301269531, 145.39671325683594, 731.88525390625, 397.922119140625, 135.66574096679688, 279.4407043457031, 147.09445190429688, 105.69097900390625, 351.72900390625, 122.69866943359375, 797.1224365234375, 106.6231918334961, 136.8140106201172, 1108.570068359375, 1590.4425048828125, 1169.1357421875, 321.0265197753906, 436.2151794433594, 293.057861328125, 454.6728820800781, 447.57855224609375, 372.27447509765625, 394.0063171386719, 231.7708740234375, 207.417236328125, 210.8150634765625, 245.0947265625, 1942.65771484375, 211.4265594482422, 266.5209045410156, 852.0206298828125, 153.91073608398438, 169.28713989257812, 180.30758666992188, 608.37255859375, 195.91294860839844, 313.814697265625, 527.7064819335938, 268.5525817871094, 285.6111755371094, 296.7505798339844, 112.8013916015625, 548.9366455078125, 736.8087768554688, 229.52098083496094, 135.3824462890625, 103.95446014404297, 164.4355926513672, 326.6964111328125, 75.95124053955078, 2261.430419921875, 98.17078399658203, 135.99264526367188, 132.08297729492188, 68.6982650756836, 568.4320678710938, 349.788818359375, 132.11781311035156, 294.7608947753906, 232.49038696289062, 177.9664306640625, 227.3489990234375, 203.3654327392578, 399.28240966796875, 246.41603088378906, 219.87147521972656, 451.9189453125, 413.46990966796875, 416.7230224609375, 225.85443115234375, 347.00323486328125, 261.89154052734375, 751.357421875, 334.86376953125, 390.3368835449219, 327.0240478515625, 245.00001525878906, 729.1204223632812, 724.6881103515625, 310.4508972167969, 259.477294921875, 419.4176330566406, 190.49664306640625, 225.44821166992188, 247.99880981445312, 264.40386962890625, 159.4907989501953, 295.6994323730469, 172.44293212890625, 384.52569580078125, 91.66390991210938, 166.05348205566406, 92.32038879394531, 160.37338256835938, 92.33856201171875, 94.13285827636719, 438.395263671875, 1161.2467041015625, 210.234375, 170.2882080078125, 314.1013488769531, 350.2655334472656, 277.77410888671875, 238.04867553710938, 202.41616821289062, 239.0492401123047, 291.18609619140625, 189.16355895996094, 234.0809783935547, 214.10763549804688, 654.025634765625, 216.8719940185547, 183.33352661132812, 601.0941162109375, 134.872802734375, 230.29795837402344, 351.3268737792969, 160.85487365722656, 332.0554504394531, 995.61572265625, 533.5209350585938, 154.35113525390625, 826.54638671875, 233.4457550048828, 512.1521606445312, 1264.16259765625, 225.1836700439453, 139.4932403564453, 440.15728759765625, 113.69343566894531, 97.78856658935547, 119.69673919677734, 85.2631607055664, 69.0772705078125, 163.78256225585938, 200.21438598632812, 299.57586669921875, 227.83126831054688, 314.4217834472656, 552.1644287109375, 277.4334411621094, 218.46620178222656, 203.7804412841797, 572.6298828125, 280.4305725097656, 131.29104614257812, 587.0311279296875, 318.2331848144531, 153.14703369140625, 145.73251342773438, 280.5873718261719, 141.96421813964844, 305.346923828125, 426.3345642089844, 228.91116333007812, 92.64176177978516, 208.2344970703125, 177.1771697998047, 460.71710205078125, 142.3960723876953, 218.88885498046875, 201.2279510498047, 111.391357421875, 105.40685272216797, 289.7489013671875, 273.19927978515625, 191.9190216064453, 87.68184661865234, 114.53377532958984, 495.90460205078125, 172.8692626953125, 69.29087829589844, 74.89641571044922, 932.0906372070312, 376.1334533691406, 345.58978271484375, 257.4851379394531, 349.7154846191406, 224.7680206298828, 217.89346313476562, 223.36521911621094, 190.87979125976562, 145.2436981201172], \"Term\": [\"bols\", \"recarg\", \"naveg\", \"llam\", \"rrss\", \"cobertur\", \"region\", \"app\", \"comun\", \"senal\", \"sald\", \"problem\", \"si\", \"lin\", \"pes\", \"ingres\", \"mb\", \"movil\", \"fech\", \"mont\", \"punt\", \"medi\", \"client\", \"equip\", \"dificult\", \"plan\", \"consum\", \"ilimit\", \"portal\", \"activ\", \"fecha_hor\", \"caja_vecin\", \"banc\", \"saldo_auxili\", \"mont\", \"pos\", \"consum\", \"ilimit\", \"vig\", \"recarg\", \"mb_vig\", \"codig\", \"pm\", \"bols\", \"medi\", \"lleg\", \"redes_social\", \"deb\", \"hor\", \"compr\", \"gb\", \"pes\", \"verific\", \"web\", \"dias\", \"lug\", \"mb\", \"activ\", \"rrss\", \"fech\", \"sald\", \"cliente_ind\", \"client\", \"comun\", \"app\", \"realiz\", \"indic\", \"descont\", \"devolucion\", \"minut\", \"ir\", \"dec\", \"quer\", \"sald\", \"des\", \"pes\", \"plan\", \"informacion\", \"utiliz\", \"solicitud\", \"gener\", \"comunic\", \"ayer\", \"dias\", \"dia\", \"suspend\", \"consult\", \"solicit\", \"ser\", \"inform\", \"mencion\", \"dispon\", \"reclam\", \"cort\", \"realiz\", \"respuest\", \"vez\", \"llam\", \"client\", \"recarg\", \"lleg\", \"cliente_ind\", \"solucion\", \"compr\", \"verific\", \"hac\", \"indic\", \"lin\", \"voz\", \"usuari\", \"pantalla_movil\", \"naveg\", \"alto\", \"bam\", \"rrss\", \"comuna_region\", \"wifi_apag\", \"modelo_samsung\", \"mb\", \"reinici\", \"navegacion\", \"lug\", \"gb\", \"model\", \"red\", \"tod\", \"cobertur\", \"si\", \"aun\", \"internet\", \"qued\", \"carg\", \"senal\", \"hoy\", \"bols\", \"baj\", \"ningun\", \"redes_social\", \"contingent\", \"comun\", \"equip\", \"mb_vig\", \"servici\", \"region\", \"motiv\", \"usuari\", \"movil\", \"client\", \"problem\", \"sald\", \"punt\", \"portal\", \"acced\", \"incorrect\", \"error\", \"detall\", \"app\", \"mensaje_error\", \"entreg\", \"intent\", \"sms_error\", \"ingres\", \"fech\", \"web\", \"sal\", \"medi\", \"ped\", \"pagin\", \"permit\", \"registr\", \"comprar_bols\", \"aparec\", \"encontr\", \"dificult\", \"ns\", \"valid\", \"zon\", \"envi\", \"informacion\", \"moment\", \"compr\", \"client\", \"solicit\", \"telefon\", \"consult\", \"indic\", \"cliente_ind\", \"usuari\", \"lleg\", \"realiz\", \"import\", \"direccion\", \"person\", \"prueba_cruz\", \"region\", \"present\", \"zon\", \"senal\", \"seman\", \"recib\", \"telefon\", \"cort\", \"voz\", \"problem\", \"cobertur\", \"pas\", \"comun\", \"fecha_problem\", \"dificult\", \"llam\", \"model\", \"inconvenient\", \"hac\", \"mes\", \"mism\", \"sms_error\", \"modelo_samsung\", \"tod\", \"red\", \"mensaj\", \"servici\", \"usuari\", \"indic\", \"client\", \"si\", \"cliente_ind\", \"realiz\", \"lin\", \"correct\", \"favor\", \"movil\", \"chip\", \"prepag\", \"suspend\", \"registr\", \"anterior\", \"pod\", \"activ\", \"aun\", \"contingent\", \"envi\", \"comprar_bols\", \"equip\", \"nuev\", \"centilitr\", \"permit\", \"internet\", \"usar\", \"solucion\", \"plan\", \"sms\", \"reinici\", \"autoriz\", \"si\", \"inform\", \"wifi_apag\", \"ns\", \"client\", \"indic\", \"verific\", \"servici\", \"realiz\", \"ingres\", \"hac\", \"problem\", \"naveg\", \"mensaj\"], \"Total\": [6546.0, 4379.0, 2235.0, 2885.0, 1140.0, 1105.0, 892.0, 1000.0, 1800.0, 930.0, 2391.0, 1890.0, 1700.0, 936.0, 1279.0, 1109.0, 912.0, 1043.0, 1193.0, 759.0, 452.0, 819.0, 5094.0, 1127.0, 1158.0, 858.0, 652.0, 660.0, 460.0, 991.0, 338.0672607421875, 280.206298828125, 314.81512451171875, 288.5418701171875, 759.8857421875, 404.4091796875, 652.5941772460938, 660.5133056640625, 343.1998291015625, 4379.359375, 428.51531982421875, 249.00714111328125, 251.28831481933594, 6546.9189453125, 819.0957641601562, 956.9926147460938, 408.9736328125, 283.152099609375, 518.3914794921875, 1649.6160888671875, 501.13330078125, 1279.043701171875, 1641.450439453125, 583.5838012695312, 378.0817565917969, 967.491943359375, 912.6375122070312, 991.62109375, 1140.1226806640625, 1193.2843017578125, 2391.108642578125, 1433.12451171875, 5094.00048828125, 1800.5140380859375, 1000.1080322265625, 1907.3170166015625, 1787.9840087890625, 395.1563415527344, 302.3659973144531, 313.7980041503906, 315.4503173828125, 392.087890625, 340.0863342285156, 2391.108642578125, 647.11328125, 1279.043701171875, 858.7763671875, 294.47869873046875, 315.054443359375, 292.6493225097656, 926.95849609375, 428.2362976074219, 231.85235595703125, 378.0817565917969, 860.9428100585938, 291.85772705078125, 1476.4599609375, 806.2061767578125, 276.2821350097656, 596.0037841796875, 313.8335876464844, 234.30360412597656, 812.2850341796875, 292.85235595703125, 1907.3170166015625, 257.457275390625, 340.79217529296875, 2885.84716796875, 5094.00048828125, 4379.359375, 956.9926147460938, 1433.12451171875, 853.8043823242188, 1649.6160888671875, 1641.450439453125, 1314.035888671875, 1787.9840087890625, 936.396484375, 610.5770874023438, 1109.4971923828125, 246.29029846191406, 2235.781982421875, 275.0756530761719, 355.2642517089844, 1140.1226806640625, 215.73072814941406, 239.50599670410156, 266.8439025878906, 912.6375122070312, 295.40606689453125, 481.5552978515625, 967.491943359375, 501.13330078125, 544.972412109375, 570.419677734375, 223.95289611816406, 1105.4700927734375, 1700.9462890625, 533.8665161132812, 317.2087097167969, 279.180419921875, 449.0169677734375, 930.7607421875, 217.45204162597656, 6546.9189453125, 285.58013916015625, 412.05181884765625, 408.9736328125, 216.82406616210938, 1800.5140380859375, 1127.500732421875, 428.51531982421875, 1214.1209716796875, 892.2742309570312, 682.1729736328125, 1109.4971923828125, 1043.78173828125, 5094.00048828125, 1890.0556640625, 2391.108642578125, 452.93145751953125, 460.719970703125, 492.28948974609375, 289.8503723144531, 446.5640869140625, 347.61541748046875, 1000.1080322265625, 465.25982666015625, 558.8401489257812, 491.84423828125, 371.2908020019531, 1109.6539306640625, 1193.2843017578125, 583.5838012695312, 492.6062316894531, 819.0957641601562, 372.0957946777344, 469.6912841796875, 546.3667602539062, 583.2926025390625, 427.81854248046875, 837.019775390625, 505.2619323730469, 1158.146240234375, 277.60498046875, 506.122802734375, 283.2502746582031, 495.9983825683594, 294.47869873046875, 326.9383239746094, 1649.6160888671875, 5094.00048828125, 806.2061767578125, 622.7455444335938, 1476.4599609375, 1787.9840087890625, 1433.12451171875, 1109.4971923828125, 956.9926147460938, 1907.3170166015625, 314.79473876953125, 212.9285430908203, 269.9449462890625, 258.9178161621094, 892.2742309570312, 328.0601806640625, 283.2502746582031, 930.7607421875, 223.23204040527344, 394.47454833984375, 622.7455444335938, 292.85235595703125, 610.5770874023438, 1890.0556640625, 1105.4700927734375, 326.6053771972656, 1800.5140380859375, 510.5068359375, 1158.146240234375, 2885.84716796875, 544.972412109375, 380.83270263671875, 1314.035888671875, 343.0218200683594, 302.952392578125, 371.2908020019531, 266.8439025878906, 223.95289611816406, 570.419677734375, 698.2205200195312, 1214.1209716796875, 1109.4971923828125, 1787.9840087890625, 5094.00048828125, 1700.9462890625, 1433.12451171875, 1907.3170166015625, 936.396484375, 459.414306640625, 231.73959350585938, 1043.78173828125, 573.1683349609375, 283.89324951171875, 291.85772705078125, 583.2926025390625, 317.5450439453125, 703.5992431640625, 991.62109375, 533.8665161132812, 216.82406616210938, 495.9983825683594, 427.81854248046875, 1127.500732421875, 362.33721923828125, 592.6077270507812, 546.3667602539062, 317.2087097167969, 301.5723876953125, 853.8043823242188, 858.7763671875, 609.3746337890625, 295.40606689453125, 391.32623291015625, 1700.9462890625, 596.0037841796875, 239.50599670410156, 277.60498046875, 5094.00048828125, 1787.9840087890625, 1641.450439453125, 1214.1209716796875, 1907.3170166015625, 1109.6539306640625, 1314.035888671875, 1890.0556640625, 2235.781982421875, 698.2205200195312], \"loglift\": [30.0, 29.0, 28.0, 27.0, 26.0, 25.0, 24.0, 23.0, 22.0, 21.0, 20.0, 19.0, 18.0, 17.0, 16.0, 15.0, 14.0, 13.0, 12.0, 11.0, 10.0, 9.0, 8.0, 7.0, 6.0, 5.0, 4.0, 3.0, 2.0, 1.0, 1.5917999744415283, 1.579300045967102, 1.534000039100647, 1.438099980354309, 1.4220999479293823, 1.3877999782562256, 1.385599970817566, 1.3733999729156494, 1.3313000202178955, 1.246899962425232, 1.2210999727249146, 1.132200002670288, 1.103700041770935, 1.0951999425888062, 0.8550999760627747, 0.7552000284194946, 0.7523999810218811, 0.7505999803543091, 0.7268999814987183, 0.6317999958992004, 0.5726000070571899, 0.5641000270843506, 0.5519000291824341, 0.5425999760627747, 0.5418999791145325, 0.44679999351501465, 0.42309999465942383, 0.29499998688697815, 0.2079000025987625, 0.17399999499320984, -0.042399998754262924, -0.0020000000949949026, -0.8125, -0.2371000051498413, 0.05139999836683273, -0.45980000495910645, -0.5220999717712402, 1.4157999753952026, 1.3918999433517456, 1.3076000213623047, 1.253999948501587, 1.1806000471115112, 1.1771999597549438, 1.1282999515533447, 1.117900013923645, 1.093400001525879, 1.0819000005722046, 1.073099970817566, 1.0268000364303589, 0.9700000286102295, 0.9643999934196472, 0.9351999759674072, 0.9315000176429749, 0.9172000288963318, 0.9160000085830688, 0.9036999940872192, 0.8986999988555908, 0.8944000005722046, 0.88919997215271, 0.8429999947547913, 0.8427000045776367, 0.8044000267982483, 0.7634999752044678, 0.7304999828338623, 0.7279999852180481, 0.7189000248908997, 0.6877999901771545, 0.6437000036239624, 0.43639999628067017, 0.2797999978065491, 0.5081999897956848, 0.41100001335144043, 0.5310999751091003, 0.3116999864578247, 0.3009999990463257, 0.3391999900341034, 0.08799999952316284, 0.20419999957084656, 0.520799994468689, -0.06019999831914902, 1.7695000171661377, 1.6338000297546387, 1.511199951171875, 1.486899971961975, 1.4830000400543213, 1.4366999864578247, 1.427299976348877, 1.3823000192642212, 1.3688000440597534, 1.3636000156402588, 1.3460999727249146, 1.1682000160217285, 1.1505000591278076, 1.1282000541687012, 1.1208000183105469, 1.0885000228881836, 1.0743000507354736, 0.9376999735832214, 0.9301999807357788, 0.9229000210762024, 0.7864000201225281, 0.7698000073432922, 0.7272999882698059, 0.7224000096321106, 0.7113000154495239, 0.7064999938011169, 0.6657999753952026, 0.64410001039505, 0.625, 0.621399998664856, 0.6039000153541565, 0.5976999998092651, 0.3587000072002411, 0.4293999969959259, 0.43059998750686646, 0.1890999972820282, 0.1386999934911728, -0.7717999815940857, -0.2630000114440918, -0.6121000051498413, 1.8351000547409058, 1.729200005531311, 1.670699954032898, 1.5879000425338745, 1.5851000547409058, 1.5542000532150269, 1.5513999462127686, 1.5084999799728394, 1.4785000085830688, 1.4292000532150269, 1.4215999841690063, 1.4174000024795532, 1.3386000394821167, 1.2062000036239624, 1.1963000297546387, 1.1679999828338623, 1.167799949645996, 1.1033999919891357, 1.0475000143051147, 1.0462000370025635, 0.8507000207901001, 0.7968999743461609, 0.7623999714851379, 0.7347999811172485, 0.7293000221252441, 0.7228999733924866, 0.7163000106811523, 0.708299994468689, 0.6776000261306763, 0.5922999978065491, 0.5121999979019165, 0.3587999939918518, 0.49320000410079956, 0.5407000184059143, 0.2897000014781952, 0.20720000565052032, 0.19660000503063202, 0.29820001125335693, 0.2838999927043915, -0.2393999993801117, 1.8774000406265259, 1.8370000123977661, 1.8128000497817993, 1.7653000354766846, 1.644700050354004, 1.5414999723434448, 1.520300030708313, 1.5181000232696533, 1.4515000581741333, 1.417199969291687, 1.3828999996185303, 1.3561999797821045, 1.3463000059127808, 1.3143999576568604, 1.2267999649047852, 1.2058000564575195, 1.176800012588501, 1.1728999614715576, 1.1394000053405762, 1.1299999952316284, 1.0714999437332153, 0.9509999752044678, 0.8615999817848206, 0.8511000275611877, 0.8245999813079834, 0.8233000040054321, 0.8144000172615051, 0.77920001745224, 0.7074999809265137, 0.7062000036239624, 0.5559999942779541, 0.37229999899864197, 0.21729999780654907, -0.26660001277923584, 0.1420000046491623, 0.07440000027418137, -0.2809999883174896, 1.5885000228881836, 1.5866999626159668, 1.5120999813079834, 1.5047999620437622, 1.4918999671936035, 1.4630999565124512, 1.3858000040054321, 1.3485000133514404, 1.2753000259399414, 1.2454999685287476, 1.236199975013733, 1.2335000038146973, 1.2300000190734863, 1.212399959564209, 1.198799967765808, 1.1852999925613403, 1.146299958229065, 1.0843000411987305, 1.0815000534057617, 1.0338000059127808, 1.029099941253662, 0.9995999932289124, 0.9350000023841858, 0.925000011920929, 0.8657000064849854, 0.8515999913215637, 0.8478000164031982, 0.8425999879837036, 0.8399999737739563, 0.7702000141143799, 0.38190001249313354, 0.521399974822998, 0.5221999883651733, 0.5295000076293945, 0.3840000033378601, 0.483599990606308, 0.28349998593330383, -0.0551999993622303, -0.38040000200271606, 0.510200023651123], \"logprob\": [30.0, 29.0, 28.0, 27.0, 26.0, 25.0, 24.0, 23.0, 22.0, 21.0, 20.0, 19.0, 18.0, 17.0, 16.0, 15.0, 14.0, 13.0, 12.0, 11.0, 10.0, 9.0, 8.0, 7.0, 6.0, 5.0, 4.0, 3.0, 2.0, 1.0, -4.1803998947143555, -4.38070011138916, -4.309500217437744, -4.492499828338623, -3.5401999950408936, -4.2052998542785645, -3.7288999557495117, -3.729099988937378, -4.425899982452393, -1.9638999700546265, -4.3140997886657715, -4.945799827575684, -4.965199947357178, -1.7135000228881836, -4.032199859619141, -3.9765000343322754, -4.829500198364258, -5.19890022277832, -4.6178998947143555, -3.5553998947143555, -4.806000232696533, -3.877500057220459, -3.6403000354766846, -4.683700084686279, -5.118500232696533, -4.27400016784668, -4.356100082397461, -4.401199817657471, -4.348700046539307, -4.336999893188477, -3.8584001064300537, -4.329899787902832, -3.8722000122070312, -4.3368000984191895, -4.636199951171875, -4.5019001960754395, -4.628699779510498, -4.200399875640869, -4.492000102996826, -4.539100170135498, -4.587500095367432, -4.443399906158447, -4.589099884033203, -2.6875998973846436, -4.005099773406982, -3.3482000827789307, -3.7581000328063965, -4.837200164794922, -4.815999984741211, -4.946499824523926, -3.799099922180176, -4.6006999015808105, -5.217899799346924, -4.743199825286865, -3.9214999675750732, -5.015600204467773, -3.399399995803833, -4.008800029754639, -5.084799766540527, -4.362199783325195, -5.004000186920166, -5.334499835968018, -4.132199764251709, -5.185299873352051, -3.313999891281128, -5.325699806213379, -5.076399803161621, -2.9842000007629395, -2.623300075531006, -2.930999994277954, -4.223499774932861, -3.9168999195098877, -4.314700126647949, -3.875499963760376, -3.891200065612793, -4.075399875640869, -4.018700122833252, -4.549300193786621, -4.660299777984619, -4.644100189208984, -4.319499969482422, -2.2493999004364014, -4.467299938201904, -4.2357001304626465, -3.0736000537872314, -4.784800052642822, -4.689599990844727, -4.626500129699707, -3.410399913787842, -4.543499946594238, -4.072400093078613, -3.5525999069213867, -4.228099822998047, -4.166500091552734, -4.128300189971924, -5.0954999923706055, -3.513200044631958, -3.2188000679016113, -4.385200023651123, -4.913099765777588, -5.177199840545654, -4.718699932098389, -4.032100200653076, -5.491099834442139, -2.097399950027466, -5.234499931335449, -4.908599853515625, -4.937699794769287, -5.591400146484375, -3.478300094604492, -3.9637999534606934, -4.9375, -4.135000228881836, -4.372300148010254, -4.639599800109863, -4.394700050354004, -4.506199836730957, -3.8315000534057617, -4.314199924468994, -4.428100109100342, -3.6445999145507812, -3.7335000038146973, -3.7256999015808105, -4.338200092315674, -3.908799886703491, -4.190199851989746, -3.136199951171875, -3.9444000720977783, -3.791100025177002, -3.968100070953369, -4.256899833679199, -3.166300058364868, -3.1723999977111816, -4.020100116729736, -4.19950008392334, -3.7193000316619873, -4.508500099182129, -4.340000152587891, -4.244699954986572, -4.180600166320801, -4.686100006103516, -4.06879997253418, -4.608099937438965, -3.8060998916625977, -5.239999771118164, -4.6458001136779785, -5.232900142669678, -4.680600166320801, -5.232699871063232, -5.213399887084961, -3.674999952316284, -2.700900077819824, -4.409900188446045, -4.62060022354126, -4.008399963378906, -3.899399995803833, -4.13129997253418, -4.285699844360352, -4.447800159454346, -4.281499862670898, -3.966200113296509, -4.397500038146973, -4.184500217437744, -4.27370023727417, -3.1570000648498535, -4.260799884796143, -4.428800106048584, -3.2414000034332275, -4.735799789428711, -4.200799942016602, -3.77839994430542, -4.559599876403809, -3.8348000049591064, -2.736799955368042, -3.360599994659424, -4.600900173187256, -2.9228999614715576, -4.18720006942749, -3.4014999866485596, -2.497999906539917, -4.223199844360352, -4.702099800109863, -3.552999973297119, -4.906599998474121, -5.057300090789795, -4.855199813842773, -5.194399833679199, -5.404900074005127, -4.541600227355957, -4.340700149536133, -3.9377999305725098, -4.21150016784668, -3.889400005340576, -3.3262999057769775, -4.014500141143799, -4.253499984741211, -4.3231000900268555, -3.164900064468384, -3.8789000511169434, -4.637800216674805, -3.1401000022888184, -3.7523999214172363, -4.483799934387207, -4.533400058746338, -3.8782999515533447, -4.559599876403809, -3.7936999797821045, -3.4600000381469727, -4.0817999839782715, -4.986400127410889, -4.176499843597412, -4.3379998207092285, -3.3824000358581543, -4.556600093841553, -4.1265997886657715, -4.210700035095215, -4.80210018157959, -4.857399940490723, -3.8461999893188477, -3.9049999713897705, -4.2581000328063965, -5.041500091552734, -4.7743000984191895, -3.308799982070923, -4.362599849700928, -5.276899814605713, -5.199100017547607, -2.677799940109253, -3.585200071334839, -3.6698999404907227, -3.964200019836426, -3.658099889755249, -4.100100040435791, -4.131199836730957, -4.106400012969971, -4.263500213623047, -4.536799907684326]}, \"token.table\": {\"Topic\": [1, 2, 3, 4, 6, 1, 2, 3, 4, 5, 6, 1, 3, 5, 1, 2, 3, 4, 5, 6, 1, 2, 3, 4, 5, 6, 1, 2, 4, 6, 1, 2, 3, 4, 5, 6, 1, 2, 3, 4, 5, 6, 1, 2, 3, 4, 5, 6, 1, 2, 3, 4, 5, 6, 3, 5, 6, 1, 2, 4, 1, 2, 3, 4, 5, 6, 1, 2, 1, 2, 3, 4, 5, 6, 1, 2, 3, 4, 5, 6, 1, 2, 3, 5, 6, 1, 2, 3, 4, 5, 6, 1, 2, 3, 4, 5, 6, 3, 5, 6, 1, 2, 4, 5, 6, 1, 2, 3, 4, 5, 6, 1, 2, 4, 5, 6, 1, 2, 3, 4, 5, 6, 1, 3, 5, 6, 1, 2, 3, 4, 5, 6, 1, 2, 3, 4, 5, 6, 1, 2, 3, 4, 1, 2, 3, 4, 5, 6, 1, 2, 3, 4, 5, 6, 1, 2, 3, 5, 6, 1, 2, 3, 4, 5, 6, 1, 2, 4, 5, 6, 1, 2, 3, 4, 5, 6, 1, 2, 4, 5, 1, 2, 3, 4, 1, 2, 3, 4, 1, 2, 3, 4, 5, 6, 1, 2, 3, 4, 5, 6, 1, 2, 3, 4, 5, 6, 3, 4, 5, 1, 2, 3, 4, 5, 6, 1, 2, 3, 4, 5, 6, 1, 2, 3, 4, 1, 2, 3, 4, 6, 1, 2, 3, 4, 5, 6, 1, 2, 3, 4, 5, 6, 1, 2, 3, 4, 5, 6, 1, 2, 3, 4, 5, 6, 1, 1, 2, 3, 4, 5, 6, 1, 2, 3, 4, 6, 1, 2, 3, 4, 5, 6, 1, 2, 3, 4, 5, 6, 1, 2, 3, 4, 5, 6, 1, 2, 3, 4, 5, 6, 1, 2, 3, 2, 3, 5, 6, 1, 2, 3, 4, 5, 6, 1, 3, 4, 6, 1, 2, 3, 4, 5, 6, 1, 2, 3, 4, 5, 6, 1, 2, 4, 5, 6, 1, 2, 3, 4, 5, 6, 1, 2, 4, 5, 6, 1, 3, 4, 5, 6, 1, 2, 3, 4, 5, 1, 2, 3, 4, 5, 6, 1, 2, 3, 4, 5, 6, 1, 2, 3, 4, 5, 6, 1, 2, 3, 4, 5, 1, 2, 3, 6, 1, 3, 5, 1, 2, 4, 5, 6, 1, 2, 3, 4, 5, 6, 1, 2, 3, 4, 5, 6, 2, 3, 4, 5, 6, 1, 2, 3, 4, 5, 6, 1, 2, 3, 5, 6, 1, 2, 3, 4, 5, 6, 1, 3, 4, 5, 6, 1, 3, 5, 1, 2, 3, 4, 5, 6, 1, 2, 4, 1, 2, 3, 4, 5, 6, 1, 2, 3, 4, 5, 6, 1, 3, 5, 6, 1, 2, 3, 5, 6, 1, 2, 3, 4, 5, 6, 1, 2, 3, 4, 5, 6, 1, 2, 3, 4, 5, 6, 1, 2, 3, 4, 6, 3, 1, 2, 3, 4, 5, 6, 1, 2, 3, 4, 5, 6, 1, 2, 3, 4, 5, 6, 2, 4, 5, 6, 1, 2, 3, 4, 5, 6, 1, 2, 4, 5, 6, 1, 2, 3, 4, 5, 1, 2, 3, 4, 5, 6, 1, 2, 4, 6, 1, 2, 3, 4, 5, 1, 2, 4, 5, 6, 2, 3, 4, 5, 6, 1, 2, 3, 4, 5, 6, 3, 5, 6, 4, 1, 2, 3, 4, 5, 6, 1, 2, 3, 4, 5, 6, 1, 2, 3, 4, 5, 6, 1, 2, 4, 6, 1, 2, 4, 5, 6, 1, 2, 3, 4, 5, 6, 1, 2, 3, 5, 6, 1, 2, 3, 6, 1, 3, 4, 5, 6, 1, 2, 3, 4, 5, 6, 1, 3, 5, 6, 1, 2, 3, 4, 5, 6, 1, 3, 6, 1, 2, 3, 4, 5, 6, 1, 2, 3, 4, 5, 6, 1, 2, 3, 5, 6, 1, 3, 4, 5, 6, 1, 3, 5, 6, 2, 3, 4, 5, 6, 1, 2, 3, 4, 5, 6, 1, 2, 3, 4, 5, 6, 1, 2, 3, 4, 5, 6, 1, 2, 4, 5, 1, 2, 3, 4, 5, 6, 1, 2, 3, 4, 6, 1, 2, 3, 4, 5, 6, 2, 6, 1, 2, 3, 4, 5, 6, 1, 2, 3, 4, 5, 6, 1, 2, 3, 4, 5, 6, 1, 2, 3, 4, 5, 6, 1, 2, 3, 4, 5, 6, 1, 2, 3, 4, 5, 6, 1, 2, 3, 4, 5, 6, 1, 2, 3, 4, 5, 6, 1, 2, 3, 1, 2, 5, 1, 2, 3, 4, 6, 3, 6, 3, 4, 5, 6], \"Freq\": [0.0020313251297920942, 0.02031325176358223, 0.010156625881791115, 0.8470625877380371, 0.12187950313091278, 0.2722814083099365, 0.19967304170131683, 0.07865907996892929, 0.0020168994087725878, 0.016135195270180702, 0.4295995831489563, 0.01454145461320877, 0.767061710357666, 0.21448644995689392, 0.03778991475701332, 0.17320378124713898, 0.2928718328475952, 0.03778991475701332, 0.00944747868925333, 0.4471806585788727, 0.22221697866916656, 0.06929346174001694, 0.1075243428349495, 0.35363560914993286, 0.17442837357521057, 0.07287760823965073, 0.2139768898487091, 0.03299643471837044, 0.7509188652038574, 0.000999892014078796, 0.0224775280803442, 0.07305196672677994, 0.4308193027973175, 0.01873127371072769, 0.026223784312605858, 0.4289461672306061, 0.13288146257400513, 0.13543686270713806, 0.025554126128554344, 0.1993221789598465, 0.21465465426445007, 0.2938724458217621, 0.04313089698553085, 0.5132576823234558, 0.1682104915380478, 0.09920106083154678, 0.1682104915380478, 0.0086261797696352, 0.0035016441252082586, 0.2346101552248001, 0.34316110610961914, 0.11905589699745178, 0.16457727551460266, 0.13656412065029144, 0.7515532374382019, 0.002814806066453457, 0.24488814175128937, 0.940234363079071, 0.01905880495905876, 0.03811760991811752, 0.6068503260612488, 0.029021285474300385, 0.34535330533981323, 0.00244389777071774, 0.0018329232698306441, 0.014510642737150192, 0.9849885702133179, 0.014275196939706802, 0.01781669817864895, 0.26947757601737976, 0.3652423322200775, 0.25834211707115173, 0.004454174544662237, 0.08017514646053314, 0.2126195728778839, 0.0708731934428215, 0.15018366277217865, 0.13330909609794617, 0.06581082195043564, 0.3695530593395233, 0.0017446881392970681, 0.09595784544944763, 0.2547244727611542, 0.09072378277778625, 0.5548108220100403, 0.09010599553585052, 0.3121318817138672, 0.07832743972539902, 0.22791516780853271, 0.10836277157068253, 0.18296033143997192, 0.2023550570011139, 0.30423036217689514, 0.08233758062124252, 0.19398175179958344, 0.15211518108844757, 0.06419540196657181, 0.496621310710907, 0.48305240273475647, 0.019901035353541374, 0.6305040121078491, 0.12449441850185394, 0.12851037085056305, 0.1044146791100502, 0.012047846801578999, 0.38190704584121704, 0.2758217453956604, 0.029097680002450943, 0.2655163109302521, 0.003637210000306368, 0.04425271973013878, 0.007012318819761276, 0.2033572494983673, 0.37165290117263794, 0.004674879368394613, 0.413726806640625, 0.15995432436466217, 0.002221587812528014, 0.3154654800891876, 0.024437464773654938, 0.4593132734298706, 0.038877785205841064, 0.00463540805503726, 0.7138528823852539, 0.2734890878200531, 0.00463540805503726, 0.014010956510901451, 0.5137350559234619, 0.05137350782752037, 0.10274701565504074, 0.17046663165092468, 0.14477987587451935, 0.035219378769397736, 0.49578046798706055, 0.09685328602790833, 0.21267084777355194, 0.08940303325653076, 0.07043875753879547, 0.8106109499931335, 0.18234916031360626, 0.004597037564963102, 0.001532345893792808, 0.004612034186720848, 0.004612034186720848, 0.31823036074638367, 0.06918051093816757, 0.17986933887004852, 0.4289191663265228, 0.11318759620189667, 0.006530053447932005, 0.04571037366986275, 0.20678502321243286, 0.01741347648203373, 0.6094716787338257, 0.020488139241933823, 0.4200068712234497, 0.003414690028876066, 0.5497651100158691, 0.006829380057752132, 0.4308638274669647, 0.25428029894828796, 0.017658354714512825, 0.19424189627170563, 0.06710174679756165, 0.038848377764225006, 0.02550448477268219, 0.6580157279968262, 0.0969170480966568, 0.09181614965200424, 0.12752242386341095, 0.020089218392968178, 0.6165844798088074, 0.015453244559466839, 0.18543894588947296, 0.05717700719833374, 0.10353673994541168, 0.15943056344985962, 0.8325818777084351, 0.007591931615024805, 0.0025306439492851496, 0.005753484554588795, 0.03739764913916588, 0.20424871146678925, 0.7537065148353577, 0.09591025859117508, 0.8102762699127197, 0.0033072500955313444, 0.08929575234651566, 0.16028939187526703, 0.5040985345840454, 0.11963628232479095, 0.140543594956398, 0.06736800819635391, 0.006969104055315256, 0.3491308391094208, 0.5051817297935486, 0.021159444004297256, 0.04760875180363655, 0.06347833573818207, 0.015869583934545517, 0.031947605311870575, 0.00518069276586175, 0.10706765204668045, 0.3324277997016907, 0.44208580255508423, 0.08116418868303299, 0.1080174595117569, 0.004696411080658436, 0.8876217007637024, 0.004267966840416193, 0.4524044692516327, 0.08535933494567871, 0.21766631305217743, 0.20486240088939667, 0.0384116992354393, 0.005937514360994101, 0.13656282424926758, 0.051458459347486496, 0.3404175043106079, 0.22562554478645325, 0.23750057816505432, 0.15031132102012634, 0.14673247933387756, 0.0017894204938784242, 0.6978740096092224, 0.02822589874267578, 0.13508108258247375, 0.09274223446846008, 0.3225817084312439, 0.41935619711875916, 0.0017738348105922341, 0.0026607520412653685, 0.31042107939720154, 0.1507759541273117, 0.12505535781383514, 0.4088689088821411, 0.011196601204574108, 0.02015388198196888, 0.055983006954193115, 0.7770441174507141, 0.03358980268239975, 0.10300873219966888, 0.012945565395057201, 0.17260754108428955, 0.06472782790660858, 0.16397716104984283, 0.021575942635536194, 0.5652896761894226, 0.2413506954908371, 0.06201372295618057, 0.01173232588917017, 0.6075668334960938, 0.07542209327220917, 0.001676046522334218, 0.9968430399894714, 0.2135132998228073, 0.03134140372276306, 0.20959562063217163, 0.08423002064228058, 0.45640915632247925, 0.003917675465345383, 0.3591858744621277, 0.05188240483403206, 0.5367833375930786, 0.04789144918322563, 0.003990954253822565, 0.08954014629125595, 0.5296893119812012, 0.07012180238962173, 0.16613472998142242, 0.04746706411242485, 0.09817052632570267, 0.03576766699552536, 0.2830972969532013, 0.09132170677185059, 0.0890386626124382, 0.33484625816345215, 0.1659010946750641, 0.42053160071372986, 0.1273169070482254, 0.1639687418937683, 0.2507757246494293, 0.03858087956905365, 0.0019290440250188112, 0.041388437151908875, 0.37709465622901917, 0.3495023548603058, 0.04598715156316757, 0.09657301753759384, 0.08277687430381775, 0.8008922934532166, 0.010597818531095982, 0.18621881306171417, 0.0031766730826348066, 0.04765009880065918, 0.9244118928909302, 0.025413384661078453, 0.021006599068641663, 0.03413572534918785, 0.21269181370735168, 0.1312912404537201, 0.36498966813087463, 0.2363242357969284, 0.0034500558394938707, 0.20010323822498322, 0.7797126173973083, 0.013800223357975483, 0.12024716287851334, 0.2203599065542221, 0.07718189805746078, 0.19575119018554688, 0.1756167858839035, 0.21029271185398102, 0.08892560750246048, 0.4681178331375122, 0.0067113665863871574, 0.07382503151893616, 0.0721471905708313, 0.29026660323143005, 0.07470829039812088, 0.5908746719360352, 0.3124164938926697, 0.01018749363720417, 0.01018749363720417, 0.05587327480316162, 0.038750819861888885, 0.035146091133356094, 0.6569615602493286, 0.010814182460308075, 0.20276592671871185, 0.11589034646749496, 0.09759186953306198, 0.6648446321487427, 0.04472960904240608, 0.07522706687450409, 0.16708242893218994, 0.4255872964859009, 0.003152498509734869, 0.0472874790430069, 0.3499273359775543, 0.00634014280512929, 0.7069259285926819, 0.01268028561025858, 0.06023135408759117, 0.21239477396011353, 0.005339618306607008, 0.24775829911231995, 0.014950932003557682, 0.06300749629735947, 0.05766788125038147, 0.6119202971458435, 0.0727689266204834, 0.3842892348766327, 0.027721496298909187, 0.05197780579328537, 0.4379996359348297, 0.025295864790678024, 0.4315602779388428, 0.33542579412460327, 0.0010449400870129466, 0.21107791364192963, 0.015674103051424026, 0.004179760348051786, 0.31731531023979187, 0.031008010730147362, 0.5457409620285034, 0.07855362445116043, 0.02790720947086811, 0.31009024381637573, 0.0021914506796747446, 0.6662009954452515, 0.02081878110766411, 0.6884234547615051, 0.3080403208732605, 0.002333638956770301, 0.4773556590080261, 0.008546009659767151, 0.5115396976470947, 0.0012208584230393171, 0.0012208584230393171, 0.054168835282325745, 0.46840110421180725, 0.10196486860513687, 0.11471047252416611, 0.17843851447105408, 0.08284645527601242, 0.14322122931480408, 0.1317635327577591, 0.03580530732870102, 0.1947808712720871, 0.28644245862960815, 0.20767077803611755, 0.00214933673851192, 0.060181427747011185, 0.7200278043746948, 0.13110953569412231, 0.08597346395254135, 0.02040686458349228, 0.3993915021419525, 0.032067932188510895, 0.12827172875404358, 0.3323403596878052, 0.08745799213647842, 0.2103263884782791, 0.7457026243209839, 0.003186763497069478, 0.03505439683794975, 0.003186763497069478, 0.04621187970042229, 0.26076704263687134, 0.003300848649814725, 0.1815466731786728, 0.3234831690788269, 0.1881483793258667, 0.0036699105985462666, 0.5247972011566162, 0.0348641499876976, 0.41286492347717285, 0.023854417726397514, 0.003747509326785803, 0.6745516657829285, 0.31853827834129333, 0.015293404459953308, 0.2813986539840698, 0.09176042675971985, 0.2875159978866577, 0.24469447135925293, 0.07952570170164108, 0.8409159183502197, 0.15133854746818542, 0.005263949278742075, 0.11873821169137955, 0.2711922228336334, 0.2609308958053589, 0.1861697882413864, 0.11580640822649002, 0.048374827951192856, 0.037364132702350616, 0.0019161093514412642, 0.19448509812355042, 0.08909908682107925, 0.11400850862264633, 0.5623781085014343, 0.0067090620286762714, 0.8690471649169922, 0.038465287536382675, 0.08542872220277786, 0.12459628283977509, 0.012459628283977509, 0.6520538926124573, 0.1474389284849167, 0.06437474489212036, 0.02184191346168518, 0.254822313785553, 0.3300555646419525, 0.2232728898525238, 0.14561274647712708, 0.02426879294216633, 0.1368851512670517, 0.12607842683792114, 0.0036022409331053495, 0.3314061462879181, 0.13328291475772858, 0.2701680660247803, 0.05243733897805214, 0.3670613765716553, 0.06623663753271103, 0.057957060635089874, 0.06623663753271103, 0.39190012216567993, 0.03406492993235588, 0.08303326368331909, 0.2810356616973877, 0.4790380597114563, 0.12348536401987076, 0.994761049747467, 0.0336797870695591, 0.17758433520793915, 0.0673595741391182, 0.12859556078910828, 0.47151702642440796, 0.11941015720367432, 0.018812360242009163, 0.2902478277683258, 0.07256195694208145, 0.510621190071106, 0.05643707886338234, 0.048374637961387634, 0.009151361882686615, 0.003660544753074646, 0.051247626543045044, 0.4539075493812561, 0.11530715972185135, 0.3678847551345825, 0.0037044589407742023, 0.12224715203046799, 0.8668434023857117, 0.0037044589407742023, 0.35651636123657227, 0.6020122766494751, 0.023455023765563965, 0.0015636682510375977, 0.015636682510375977, 0.0007818341255187988, 0.05589348077774048, 0.5950326919555664, 0.01048002764582634, 0.018631160259246826, 0.3178941607475281, 0.6128418445587158, 0.1472412347793579, 0.1870361566543579, 0.03183593973517418, 0.01989746280014515, 0.019897690042853355, 0.22313839197158813, 0.0852758139371872, 0.13502004742622375, 0.10233098268508911, 0.43348538875579834, 0.004341031890362501, 0.0021705159451812506, 0.8964230418205261, 0.09333217889070511, 0.8135324716567993, 0.06923680752515793, 0.037091147154569626, 0.061818577349185944, 0.017309201881289482, 0.010567352175712585, 0.3874695897102356, 0.03874696046113968, 0.024657156318426132, 0.5389349460601807, 0.02133754827082157, 0.11583240330219269, 0.12497706711292267, 0.6614639759063721, 0.0762055292725563, 0.08729901909828186, 0.048675816506147385, 0.13015489280223846, 0.08888626843690872, 0.5269685983657837, 0.11798594146966934, 0.06952013075351715, 0.8265171051025391, 0.10041796416044235, 0.9979435205459595, 0.021491479128599167, 0.27222537994384766, 0.37251895666122437, 0.27938923239707947, 0.0322372168302536, 0.021491479128599167, 0.1411406248807907, 0.655715823173523, 0.020583009347319603, 0.15584278106689453, 0.01764257811009884, 0.011761719360947609, 0.12792839109897614, 0.41786447167396545, 0.038273658603429794, 0.1253069043159485, 0.10695652663707733, 0.18350383639335632, 0.7062676548957825, 0.26693400740623474, 0.023062733933329582, 0.0036535023245960474, 0.05323537439107895, 0.1368909627199173, 0.2028014212846756, 0.5830540657043457, 0.02028014324605465, 0.16004234552383423, 0.43334540724754333, 0.11326073855161667, 0.08740773797035217, 0.036932848393917084, 0.1686600148677826, 0.014024761505424976, 0.008765475824475288, 0.5206692814826965, 0.2875076234340668, 0.16829714179039001, 0.4303455948829651, 0.007335436064749956, 0.3227591812610626, 0.23717910051345825, 0.0011207317002117634, 0.2600097358226776, 0.0011207317002117634, 0.7329584956169128, 0.00336219510063529, 0.001714405370876193, 0.001714405370876193, 0.05657538026571274, 0.4526030421257019, 0.005143216345459223, 0.48174792528152466, 0.003385170828551054, 0.6634934544563293, 0.037236880511045456, 0.29789504408836365, 0.007768279407173395, 0.4156029522418976, 0.027188977226614952, 0.24858494102954865, 0.04272553697228432, 0.26023736596107483, 0.2499731034040451, 0.7472879886627197, 0.0017541971756145358, 0.010150094516575336, 0.16443154215812683, 0.030450284481048584, 0.5257748961448669, 0.15022140741348267, 0.11977112293243408, 0.19447046518325806, 0.6235601305961609, 0.09200753271579742, 0.0025092961732298136, 0.03889409080147743, 0.048094846308231354, 0.8560282588005066, 0.06931403279304504, 0.006931403186172247, 0.03119131363928318, 0.03465701639652252, 0.004479643888771534, 0.13886895775794983, 0.1433486044406891, 0.6047518849372864, 0.10751144587993622, 0.0010743900202214718, 0.35132551193237305, 0.6457083821296692, 0.0021487800404429436, 0.4922504425048828, 0.09410669654607773, 0.2787006199359894, 0.047053348273038864, 0.08686771988868713, 0.16555187106132507, 0.09307145327329636, 0.2429741472005844, 0.03953477367758751, 0.2470923513174057, 0.21167577803134918, 0.061142437160015106, 0.04879636690020561, 0.43328821659088135, 0.002351632108911872, 0.1628505289554596, 0.29160240292549133, 0.23302577435970306, 0.2313847541809082, 0.09682057052850723, 0.05251285061240196, 0.07220517098903656, 0.31507712602615356, 0.008079919964075089, 0.008079919964075089, 0.6598601341247559, 0.32319679856300354, 0.04341321066021919, 0.493670254945755, 0.0012403775472193956, 0.26047927141189575, 0.026047928258776665, 0.17613360285758972, 0.006834118161350489, 0.5330612063407898, 0.1400994211435318, 0.23577706515789032, 0.08200941234827042, 0.01991088315844536, 0.3431699275970459, 0.044506680220365524, 0.14523233473300934, 0.10775301605463028, 0.339656263589859, 0.496817409992218, 0.5002437233924866, 0.01766371540725231, 0.0851069912314415, 0.02890426106750965, 0.27298468351364136, 0.5636330842971802, 0.030510053038597107, 0.013395673595368862, 0.00446522468701005, 0.5045703649520874, 0.1428871899843216, 0.30810049176216125, 0.026791347190737724, 0.22880078852176666, 0.00994786061346531, 0.3017517626285553, 0.01989572122693062, 0.08953074365854263, 0.3481751084327698, 0.1703474372625351, 0.19017623364925385, 0.20459719002246857, 0.21451158821582794, 0.20549848675727844, 0.014420947059988976, 0.20948760211467743, 0.5649816989898682, 0.07617730647325516, 0.003174054669216275, 0.05395892634987831, 0.0952216386795044, 0.142257958650589, 0.27266108989715576, 0.10669347643852234, 0.32798364758491516, 0.03556448966264725, 0.11459669470787048, 0.3521276116371155, 0.2729293406009674, 0.01766730099916458, 0.11026833206415176, 0.0365530364215374, 0.21078918874263763, 0.12030792981386185, 0.40200453996658325, 0.055752452462911606, 0.18779774010181427, 0.14965131878852844, 0.0850958526134491, 0.7692311406135559, 0.008741263300180435, 0.22144533693790436, 0.11464563757181168, 0.33902353048324585, 0.5437479019165039, 0.34956419467926025, 0.0342709980905056, 0.015421949326992035, 0.5312004685401917, 0.0685419961810112, 0.7056190967559814, 0.2880930006504059, 0.014121786691248417, 0.32480108737945557, 0.64607173204422, 0.010591340251266956], \"Term\": [\"acced\", \"acced\", \"acced\", \"acced\", \"acced\", \"activ\", \"activ\", \"activ\", \"activ\", \"activ\", \"activ\", \"alto\", \"alto\", \"alto\", \"anterior\", \"anterior\", \"anterior\", \"anterior\", \"anterior\", \"anterior\", \"aparec\", \"aparec\", \"aparec\", \"aparec\", \"aparec\", \"aparec\", \"app\", \"app\", \"app\", \"app\", \"aun\", \"aun\", \"aun\", \"aun\", \"aun\", \"aun\", \"autoriz\", \"autoriz\", \"autoriz\", \"autoriz\", \"autoriz\", \"autoriz\", \"ayer\", \"ayer\", \"ayer\", \"ayer\", \"ayer\", \"ayer\", \"baj\", \"baj\", \"baj\", \"baj\", \"baj\", \"baj\", \"bam\", \"bam\", \"bam\", \"banc\", \"banc\", \"banc\", \"bols\", \"bols\", \"bols\", \"bols\", \"bols\", \"bols\", \"caja_vecin\", \"caja_vecin\", \"carg\", \"carg\", \"carg\", \"carg\", \"carg\", \"carg\", \"centilitr\", \"centilitr\", \"centilitr\", \"centilitr\", \"centilitr\", \"centilitr\", \"chip\", \"chip\", \"chip\", \"chip\", \"chip\", \"client\", \"client\", \"client\", \"client\", \"client\", \"client\", \"cliente_ind\", \"cliente_ind\", \"cliente_ind\", \"cliente_ind\", \"cliente_ind\", \"cliente_ind\", \"cobertur\", \"cobertur\", \"cobertur\", \"codig\", \"codig\", \"codig\", \"codig\", \"codig\", \"compr\", \"compr\", \"compr\", \"compr\", \"compr\", \"compr\", \"comprar_bols\", \"comprar_bols\", \"comprar_bols\", \"comprar_bols\", \"comprar_bols\", \"comun\", \"comun\", \"comun\", \"comun\", \"comun\", \"comun\", \"comuna_region\", \"comuna_region\", \"comuna_region\", \"comuna_region\", \"comunic\", \"comunic\", \"comunic\", \"comunic\", \"comunic\", \"comunic\", \"consult\", \"consult\", \"consult\", \"consult\", \"consult\", \"consult\", \"consum\", \"consum\", \"consum\", \"consum\", \"contingent\", \"contingent\", \"contingent\", \"contingent\", \"contingent\", \"contingent\", \"correct\", \"correct\", \"correct\", \"correct\", \"correct\", \"correct\", \"cort\", \"cort\", \"cort\", \"cort\", \"cort\", \"deb\", \"deb\", \"deb\", \"deb\", \"deb\", \"deb\", \"dec\", \"dec\", \"dec\", \"dec\", \"dec\", \"des\", \"des\", \"des\", \"des\", \"des\", \"des\", \"descont\", \"descont\", \"descont\", \"descont\", \"detall\", \"detall\", \"detall\", \"detall\", \"devolucion\", \"devolucion\", \"devolucion\", \"devolucion\", \"dia\", \"dia\", \"dia\", \"dia\", \"dia\", \"dia\", \"dias\", \"dias\", \"dias\", \"dias\", \"dias\", \"dias\", \"dificult\", \"dificult\", \"dificult\", \"dificult\", \"dificult\", \"dificult\", \"direccion\", \"direccion\", \"direccion\", \"dispon\", \"dispon\", \"dispon\", \"dispon\", \"dispon\", \"dispon\", \"encontr\", \"encontr\", \"encontr\", \"encontr\", \"encontr\", \"encontr\", \"entreg\", \"entreg\", \"entreg\", \"entreg\", \"envi\", \"envi\", \"envi\", \"envi\", \"envi\", \"equip\", \"equip\", \"equip\", \"equip\", \"equip\", \"equip\", \"error\", \"error\", \"error\", \"error\", \"error\", \"error\", \"favor\", \"favor\", \"favor\", \"favor\", \"favor\", \"favor\", \"fech\", \"fech\", \"fech\", \"fech\", \"fech\", \"fech\", \"fecha_hor\", \"fecha_problem\", \"fecha_problem\", \"fecha_problem\", \"fecha_problem\", \"fecha_problem\", \"fecha_problem\", \"gb\", \"gb\", \"gb\", \"gb\", \"gb\", \"gener\", \"gener\", \"gener\", \"gener\", \"gener\", \"gener\", \"hac\", \"hac\", \"hac\", \"hac\", \"hac\", \"hac\", \"hor\", \"hor\", \"hor\", \"hor\", \"hor\", \"hor\", \"hoy\", \"hoy\", \"hoy\", \"hoy\", \"hoy\", \"hoy\", \"ilimit\", \"ilimit\", \"ilimit\", \"import\", \"import\", \"import\", \"import\", \"inconvenient\", \"inconvenient\", \"inconvenient\", \"inconvenient\", \"inconvenient\", \"inconvenient\", \"incorrect\", \"incorrect\", \"incorrect\", \"incorrect\", \"indic\", \"indic\", \"indic\", \"indic\", \"indic\", \"indic\", \"inform\", \"inform\", \"inform\", \"inform\", \"inform\", \"inform\", \"informacion\", \"informacion\", \"informacion\", \"informacion\", \"informacion\", \"ingres\", \"ingres\", \"ingres\", \"ingres\", \"ingres\", \"ingres\", \"intent\", \"intent\", \"intent\", \"intent\", \"intent\", \"internet\", \"internet\", \"internet\", \"internet\", \"internet\", \"ir\", \"ir\", \"ir\", \"ir\", \"ir\", \"lin\", \"lin\", \"lin\", \"lin\", \"lin\", \"lin\", \"llam\", \"llam\", \"llam\", \"llam\", \"llam\", \"llam\", \"lleg\", \"lleg\", \"lleg\", \"lleg\", \"lleg\", \"lleg\", \"lug\", \"lug\", \"lug\", \"lug\", \"lug\", \"mb\", \"mb\", \"mb\", \"mb\", \"mb_vig\", \"mb_vig\", \"mb_vig\", \"medi\", \"medi\", \"medi\", \"medi\", \"medi\", \"mencion\", \"mencion\", \"mencion\", \"mencion\", \"mencion\", \"mencion\", \"mensaj\", \"mensaj\", \"mensaj\", \"mensaj\", \"mensaj\", \"mensaj\", \"mensaje_error\", \"mensaje_error\", \"mensaje_error\", \"mensaje_error\", \"mensaje_error\", \"mes\", \"mes\", \"mes\", \"mes\", \"mes\", \"mes\", \"minut\", \"minut\", \"minut\", \"minut\", \"minut\", \"mism\", \"mism\", \"mism\", \"mism\", \"mism\", \"mism\", \"model\", \"model\", \"model\", \"model\", \"model\", \"modelo_samsung\", \"modelo_samsung\", \"modelo_samsung\", \"moment\", \"moment\", \"moment\", \"moment\", \"moment\", \"moment\", \"mont\", \"mont\", \"mont\", \"motiv\", \"motiv\", \"motiv\", \"motiv\", \"motiv\", \"motiv\", \"movil\", \"movil\", \"movil\", \"movil\", \"movil\", \"movil\", \"naveg\", \"naveg\", \"naveg\", \"naveg\", \"navegacion\", \"navegacion\", \"navegacion\", \"navegacion\", \"navegacion\", \"ningun\", \"ningun\", \"ningun\", \"ningun\", \"ningun\", \"ningun\", \"ns\", \"ns\", \"ns\", \"ns\", \"ns\", \"ns\", \"nuev\", \"nuev\", \"nuev\", \"nuev\", \"nuev\", \"nuev\", \"pagin\", \"pagin\", \"pagin\", \"pagin\", \"pagin\", \"pantalla_movil\", \"pas\", \"pas\", \"pas\", \"pas\", \"pas\", \"pas\", \"ped\", \"ped\", \"ped\", \"ped\", \"ped\", \"ped\", \"permit\", \"permit\", \"permit\", \"permit\", \"permit\", \"permit\", \"person\", \"person\", \"person\", \"person\", \"pes\", \"pes\", \"pes\", \"pes\", \"pes\", \"pes\", \"plan\", \"plan\", \"plan\", \"plan\", \"plan\", \"pm\", \"pm\", \"pm\", \"pm\", \"pm\", \"pod\", \"pod\", \"pod\", \"pod\", \"pod\", \"pod\", \"portal\", \"portal\", \"portal\", \"portal\", \"pos\", \"pos\", \"pos\", \"pos\", \"pos\", \"prepag\", \"prepag\", \"prepag\", \"prepag\", \"prepag\", \"present\", \"present\", \"present\", \"present\", \"present\", \"problem\", \"problem\", \"problem\", \"problem\", \"problem\", \"problem\", \"prueba_cruz\", \"prueba_cruz\", \"prueba_cruz\", \"punt\", \"qued\", \"qued\", \"qued\", \"qued\", \"qued\", \"qued\", \"quer\", \"quer\", \"quer\", \"quer\", \"quer\", \"quer\", \"realiz\", \"realiz\", \"realiz\", \"realiz\", \"realiz\", \"realiz\", \"recarg\", \"recarg\", \"recarg\", \"recarg\", \"recib\", \"recib\", \"recib\", \"recib\", \"recib\", \"reclam\", \"reclam\", \"reclam\", \"reclam\", \"reclam\", \"reclam\", \"red\", \"red\", \"red\", \"red\", \"red\", \"redes_social\", \"redes_social\", \"redes_social\", \"redes_social\", \"region\", \"region\", \"region\", \"region\", \"region\", \"registr\", \"registr\", \"registr\", \"registr\", \"registr\", \"registr\", \"reinici\", \"reinici\", \"reinici\", \"reinici\", \"respuest\", \"respuest\", \"respuest\", \"respuest\", \"respuest\", \"respuest\", \"rrss\", \"rrss\", \"rrss\", \"sal\", \"sal\", \"sal\", \"sal\", \"sal\", \"sal\", \"sald\", \"sald\", \"sald\", \"sald\", \"sald\", \"sald\", \"saldo_auxili\", \"saldo_auxili\", \"saldo_auxili\", \"saldo_auxili\", \"saldo_auxili\", \"seman\", \"seman\", \"seman\", \"seman\", \"seman\", \"senal\", \"senal\", \"senal\", \"senal\", \"ser\", \"ser\", \"ser\", \"ser\", \"ser\", \"servici\", \"servici\", \"servici\", \"servici\", \"servici\", \"servici\", \"si\", \"si\", \"si\", \"si\", \"si\", \"si\", \"sms\", \"sms\", \"sms\", \"sms\", \"sms\", \"sms\", \"sms_error\", \"sms_error\", \"sms_error\", \"sms_error\", \"solicit\", \"solicit\", \"solicit\", \"solicit\", \"solicit\", \"solicit\", \"solicitud\", \"solicitud\", \"solicitud\", \"solicitud\", \"solicitud\", \"solucion\", \"solucion\", \"solucion\", \"solucion\", \"solucion\", \"solucion\", \"suspend\", \"suspend\", \"telefon\", \"telefon\", \"telefon\", \"telefon\", \"telefon\", \"telefon\", \"tod\", \"tod\", \"tod\", \"tod\", \"tod\", \"tod\", \"usar\", \"usar\", \"usar\", \"usar\", \"usar\", \"usar\", \"usuari\", \"usuari\", \"usuari\", \"usuari\", \"usuari\", \"usuari\", \"utiliz\", \"utiliz\", \"utiliz\", \"utiliz\", \"utiliz\", \"utiliz\", \"valid\", \"valid\", \"valid\", \"valid\", \"valid\", \"valid\", \"verific\", \"verific\", \"verific\", \"verific\", \"verific\", \"verific\", \"vez\", \"vez\", \"vez\", \"vez\", \"vez\", \"vez\", \"vig\", \"vig\", \"vig\", \"voz\", \"voz\", \"voz\", \"web\", \"web\", \"web\", \"web\", \"web\", \"wifi_apag\", \"wifi_apag\", \"zon\", \"zon\", \"zon\", \"zon\"]}, \"R\": 30, \"lambda.step\": 0.01, \"plot.opts\": {\"xlab\": \"PC1\", \"ylab\": \"PC2\"}, \"topic.order\": [4, 6, 2, 3, 5, 1]};\n",
       "\n",
       "function LDAvis_load_lib(url, callback){\n",
       "  var s = document.createElement('script');\n",
       "  s.src = url;\n",
       "  s.async = true;\n",
       "  s.onreadystatechange = s.onload = callback;\n",
       "  s.onerror = function(){console.warn(\"failed to load library \" + url);};\n",
       "  document.getElementsByTagName(\"head\")[0].appendChild(s);\n",
       "}\n",
       "\n",
       "if(typeof(LDAvis) !== \"undefined\"){\n",
       "   // already loaded: just create the visualization\n",
       "   !function(LDAvis){\n",
       "       new LDAvis(\"#\" + \"ldavis_el84413207792592407120148658\", ldavis_el84413207792592407120148658_data);\n",
       "   }(LDAvis);\n",
       "}else if(typeof define === \"function\" && define.amd){\n",
       "   // require.js is available: use it to load d3/LDAvis\n",
       "   require.config({paths: {d3: \"https://cdnjs.cloudflare.com/ajax/libs/d3/3.5.5/d3.min\"}});\n",
       "   require([\"d3\"], function(d3){\n",
       "      window.d3 = d3;\n",
       "      LDAvis_load_lib(\"https://cdn.rawgit.com/bmabey/pyLDAvis/files/ldavis.v1.0.0.js\", function(){\n",
       "        new LDAvis(\"#\" + \"ldavis_el84413207792592407120148658\", ldavis_el84413207792592407120148658_data);\n",
       "      });\n",
       "    });\n",
       "}else{\n",
       "    // require.js not available: dynamically load d3 & LDAvis\n",
       "    LDAvis_load_lib(\"https://cdnjs.cloudflare.com/ajax/libs/d3/3.5.5/d3.min.js\", function(){\n",
       "         LDAvis_load_lib(\"https://cdn.rawgit.com/bmabey/pyLDAvis/files/ldavis.v1.0.0.js\", function(){\n",
       "                 new LDAvis(\"#\" + \"ldavis_el84413207792592407120148658\", ldavis_el84413207792592407120148658_data);\n",
       "            })\n",
       "         });\n",
       "}\n",
       "</script>"
      ],
      "text/plain": [
       "<IPython.core.display.HTML object>"
      ]
     },
     "execution_count": 20,
     "metadata": {},
     "output_type": "execute_result"
    }
   ],
   "source": [
    "lda_display = pyLDAvis.gensim.prepare(lda, corpus_final, dictionary, sort_topics=True, R=30)\n",
    "pyLDAvis.display(lda_display)"
   ]
  },
  {
   "cell_type": "markdown",
   "metadata": {},
   "source": [
    "<a id='Bautizo'></a>\n",
    "### Bautizo tópicos\n",
    "\n",
    "Se importan funciones a utilizar para llevar a cabo el nombramiento de los tópicos retornados por el modelo en forma entendible por las personas (e.g tópico 1 -> Voz).<br>\n",
    "\n",
    "Variables de interés:\n",
    "<ul>\n",
    "    <li> diccionario_exterior </li>\n",
    "    <li> ponderaciones_globales </li>\n",
    "    <li> l_gral_dic </li>\n",
    "    <li> l_gral_lema_stem </li>\n",
    "    </ul>"
   ]
  },
  {
   "cell_type": "code",
   "execution_count": 21,
   "metadata": {},
   "outputs": [
    {
     "name": "stdout",
     "output_type": "stream",
     "text": [
      "No se asigno  {'Bolsas'} puesto que una clase se repitió. \n",
      "\n"
     ]
    }
   ],
   "source": [
    "#Import config\n",
    "import bautizo_prepago as bt\n",
    "from config_bt_prepago import *\n",
    "#print(\"Clases definidas manualmente como posibles etiquetas: \", list(l_dics[0].keys()))\n",
    "\n",
    "#Procesamiento topicos para asignacion nombre\n",
    "probabilidades_topicos=[]\n",
    "palabras_topicos=[]\n",
    "for topico in lda.show_topics(num_topics=6, num_words=10,log=False, formatted=True):\n",
    "    palabras_topicos.append((bt.recuperacion_palabras_topicos(topico[1]),topico[0]))\n",
    "    probabilidades_topicos.append((bt.recuperacion_probabilidades_marginales(topico[1]),topico[0]))\n",
    "diccionario_exterior = bt.creacion_lut_temas(probabilidades_topicos,palabras_topicos)\n",
    "\n",
    "#Creacion diccionario tema-nombre\n",
    "ponderaciones_globales = bt.bautizo_topicos_ponderado(diccionario_exterior,l_gral_lema_stem_v6)\n",
    "dicc_temas = dict(bt.bautizo_final(ponderaciones_globales,l_dics[1])) #Ojo con indice de lista de diccionarios"
   ]
  },
  {
   "cell_type": "markdown",
   "metadata": {},
   "source": [
    "# Evaluación\n",
    "\n",
    "## Import conjuntos de test:\n",
    "<ul>\n",
    "    <li> Se debe importar el cjto global de test ya preprocesado</li>\n",
    "    <li> Tambien se debe importar el cjto etiquetado por edo </li>\n",
    "    </ul>"
   ]
  },
  {
   "cell_type": "code",
   "execution_count": 22,
   "metadata": {},
   "outputs": [],
   "source": [
    "# Import excel post-etiquetado por grupo edo\n",
    "import warnings\n",
    "warnings.filterwarnings(\"ignore\", category=DeprecationWarning) \n",
    "dr_etiquetado = os.path.join(root,\"data\",\"etiquetado\")\n",
    "test_etiquetado = pd.read_excel(os.path.join(dr_etiquetado,\"test_prepago_2018_etiquetado.xlsx\"), index_col=0)\n",
    "\n",
    "#Asignación etiquetas a df_test_procesado\n",
    "test_df[[\"M1\",\"M2\",\"M3\"]] = test_etiquetado[[\"M1\",\"M2\",\"M3\"]]\n",
    "test_df[[\"M1\",\"M2\",\"M3\"]] = test_etiquetado[[\"M1\",\"M2\",\"M3\"]].values"
   ]
  },
  {
   "cell_type": "markdown",
   "metadata": {},
   "source": [
    "<a id='Prediccion'></a>\n",
    "## Predicción\n",
    "\n",
    "### Adhesión predicciones a dataframe de test\n",
    "\n",
    "Se evaluan las nuevas muestras, se seleccionan probabilidades mayores a p_min, se reordena vector resultante de la evaluación según valor probabilidad de pertenencia y, además, se añaden estas predicciones al dataframe test_etiquetado."
   ]
  },
  {
   "cell_type": "code",
   "execution_count": 23,
   "metadata": {},
   "outputs": [],
   "source": [
    "pmin = 0.35\n",
    "\n",
    "test_df = add_tags(test_df, lda, corpus_test, pmin)"
   ]
  },
  {
   "cell_type": "markdown",
   "metadata": {},
   "source": [
    "#### Traducción clases predichas en forma númerica a lenguaje humano<br>\n",
    "\n",
    "Debido a que el modelo predice las clases como número en lugar de una palabra legible, se traducen los resultados a las clases respectivamente definidas."
   ]
  },
  {
   "cell_type": "code",
   "execution_count": 24,
   "metadata": {},
   "outputs": [],
   "source": [
    "#Traducción output num a temas legibles\n",
    "for k,_ in enumerate(dicc_temas):\n",
    "    test_df = test_df.replace(k,dicc_temas[k])"
   ]
  },
  {
   "cell_type": "markdown",
   "metadata": {},
   "source": [
    "### Extracción valores requerimientos nulos y pendientes\n",
    "\n",
    "OJO, bases de edo vienen con algunos errores de tipografía en cuanto a algunas mayúsculas colandose en las categorizaciones."
   ]
  },
  {
   "cell_type": "code",
   "execution_count": 25,
   "metadata": {},
   "outputs": [
    {
     "name": "stdout",
     "output_type": "stream",
     "text": [
      "Valores etiquetados base test prepago: 8918\n",
      "Valores etiquetados base test prepago post remoción nulls: 5309\n"
     ]
    }
   ],
   "source": [
    "test_df.Pred_M1.replace(['-'], [np.nan], inplace=True)\n",
    "print(\"Valores etiquetados base test prepago:\",len(test_df))\n",
    "#print(\"Valores nulos base test prepago:\",test_df.isna().sum(),\"\\n\\n\")\n",
    "test_df.dropna(subset=['M1'],inplace=True)\n",
    "test_df.dropna(subset=['Pred_M1'],inplace=True)\n",
    "#print(\"Valores nulos base global prepago, habiendose eliminado nulos clasificacion 1 etiquetado y sistema:\\n\\n\",test_df.isna().sum(),\"\\n\\n\")\n",
    "test_df = test_df.drop(test_df[test_df.M1 == \"Pendiente\"].index)\n",
    "print(\"Valores etiquetados base test prepago post remoción nulls:\",len(test_df))"
   ]
  },
  {
   "cell_type": "markdown",
   "metadata": {},
   "source": [
    "### Transformación de clases predictor a etiquetas edo"
   ]
  },
  {
   "cell_type": "code",
   "execution_count": 26,
   "metadata": {},
   "outputs": [
    {
     "name": "stdout",
     "output_type": "stream",
     "text": [
      "['Bolsas y recargas' 'Otros' 'Datos' 'Voz' 'Canales']\n"
     ]
    }
   ],
   "source": [
    "test_df = test_df.replace(\"Bolsas\",str(\"Bolsas y recargas\"))\n",
    "test_df = test_df.replace(\"Recargas\",str(\"Bolsas y recargas\"))\n",
    "\n",
    "#test_df = test_df.replace(\"Canales\",str(\"Otros\"))\n",
    "test_df = test_df.replace(\"Requerimiento\",str(\"Otros\"))\n",
    "test_df = test_df.replace(\"Consulta\",str(\"Otros\"))\n",
    "test_df = test_df.replace(\"Solicitudes\",str(\"Otros\"))\n",
    "print(test_df.M1.unique())"
   ]
  },
  {
   "cell_type": "markdown",
   "metadata": {},
   "source": [
    "## Metricas"
   ]
  },
  {
   "cell_type": "code",
   "execution_count": 38,
   "metadata": {},
   "outputs": [
    {
     "name": "stdout",
     "output_type": "stream",
     "text": [
      "                   precision    recall  f1-score   support\n",
      "\n",
      "Bolsas y recargas       0.91      0.40      0.56      1996\n",
      "          Canales       0.41      0.65      0.51       686\n",
      "            Datos       0.82      0.63      0.71      1086\n",
      "            Otros       0.18      0.42      0.25       727\n",
      "              Voz       0.69      0.71      0.70       814\n",
      "\n",
      "        micro avg       0.53      0.53      0.53      5309\n",
      "        macro avg       0.60      0.56      0.54      5309\n",
      "     weighted avg       0.69      0.53      0.56      5309\n",
      "\n"
     ]
    }
   ],
   "source": [
    "from sklearn.metrics import classification_report\n",
    "\n",
    "y_test = test_df[\"M1\"]\n",
    "y_pred = test_df[\"Pred_M1\"]\n",
    "\n",
    "target_names = list(y_test.unique())\n",
    "print(classification_report(y_test, y_pred, target_names = target_names.sort()))"
   ]
  },
  {
   "cell_type": "markdown",
   "metadata": {},
   "source": [
    "### Matriz de confusión"
   ]
  },
  {
   "cell_type": "code",
   "execution_count": 40,
   "metadata": {},
   "outputs": [
    {
     "name": "stdout",
     "output_type": "stream",
     "text": [
      "Confusion matrix, without normalization\n",
      "[[797 227  63 872  37]\n",
      " [ 11 445   7 198  25]\n",
      " [ 38  27 689 183 149]\n",
      " [ 18 359   4 302  44]\n",
      " [ 10  16  82 131 575]]\n"
     ]
    },
    {
     "data": {
      "image/png": "[encoded data removed]",
      "text/plain": [
       "<Figure size 360x360 with 2 Axes>"
      ]
     },
     "metadata": {
      "needs_background": "light"
     },
     "output_type": "display_data"
    }
   ],
   "source": [
    "# Compute confusion matrix\n",
    "cnf_matrix = confusion_matrix(y_test, y_pred);\n",
    "np.set_printoptions(precision=2);\n",
    "\n",
    "# Plot non-normalized confusion matrix\n",
    "plt.figure(figsize=(5,5))\n",
    "plot_confusion_matrix(cnf_matrix, classes=target_names,\n",
    "                      title='Matriz de confusión, clasificación Top-1           ')"
   ]
  },
  {
   "cell_type": "code",
   "execution_count": 41,
   "metadata": {},
   "outputs": [
    {
     "name": "stdout",
     "output_type": "stream",
     "text": [
      "Normalized confusion matrix\n",
      "[[0.4  0.11 0.03 0.44 0.02]\n",
      " [0.02 0.65 0.01 0.29 0.04]\n",
      " [0.03 0.02 0.63 0.17 0.14]\n",
      " [0.02 0.49 0.01 0.42 0.06]\n",
      " [0.01 0.02 0.1  0.16 0.71]]\n"
     ]
    },
    {
     "data": {
      "image/png": "[encoded data removed]",
      "text/plain": [
       "<Figure size 360x360 with 2 Axes>"
      ]
     },
     "metadata": {
      "needs_background": "light"
     },
     "output_type": "display_data"
    }
   ],
   "source": [
    "plt.figure(figsize=(5,5))\n",
    "plot_confusion_matrix(cnf_matrix, classes=target_names,\n",
    "                      title='Matriz de confusión, clasificación Top-1       ',normalize=True)"
   ]
  },
  {
   "cell_type": "markdown",
   "metadata": {},
   "source": [
    "## Guardado final"
   ]
  },
  {
   "cell_type": "code",
   "execution_count": 42,
   "metadata": {},
   "outputs": [],
   "source": [
    "from gensim.test.utils import datapath\n",
    "\n",
    "#Guardado en formato Csv (final)\n",
    "destino = os.path.join(root,\"data\",\"final\")\n",
    "if not os.path.exists(destino):\n",
    "    os.makedirs(destino)\n",
    "\n",
    "#Modelo/diccionario/dataframe/corpus    \n",
    "lda.save(os.path.join(destino,\"lda\"))\n",
    "dictionary.save_as_text(os.path.join(destino,\"dictionary\"))\n",
    "test_df.to_excel(os.path.join(destino,\"test_prepago_2019.xlsx\"), encoding='utf-8', index=False)\n",
    "MmCorpus.serialize(os.path.join(destino,'corpus_test.mm'), corpus_test)"
   ]
  },
  {
   "cell_type": "markdown",
   "metadata": {},
   "source": [
    "# Aprendizaje supervisado\n",
    "\n",
    "#### División dataframe test\n",
    "\n",
    "Vía libreria KFold de sklearn se realiza generación de indices para llevar a cabo cross-validation sobre los conjuntos de muestras etiquetadas por el Edo.<br>\n",
    "\n",
    "KFold recibe 2 numpy arrays, uno para el conjunto de features o inputs y uno para la variable objetivo o target.<br>\n",
    "\n",
    "__Para continuar con trabajo creación otro algoritmo debe revisarse los valores posibles de MOTIVO, puesto que tienen una cardinalidad gigante y se requieren dummies.__\n",
    "\n",
    "## Carga archivos"
   ]
  },
  {
   "cell_type": "code",
   "execution_count": null,
   "metadata": {
    "scrolled": true
   },
   "outputs": [],
   "source": [
    "origen_procesados = os.path.join(root,\"data\",\"final\")\n",
    "origen_etiquetas = os.path.join(root,\"data\",\"etiquetado\")\n",
    "\n",
    "# Import Bases\n",
    "import warnings\n",
    "\n",
    "with warnings.catch_warnings():\n",
    "    warnings.filterwarnings(\"ignore\",category=DeprecationWarning)\n",
    "#    test_etiquetado_pp = pd.read_excel(os.path.join(origen_procesados,\"test_prepago_2019.xlsx\"), index_col = 0)\n",
    "#    display(\"Dimensiones dataset original de test prepago:\",test_etiquetado_pp.shape,test_etiquetado_pp.head())\n",
    "\n",
    "    test_etiquetado = pd.read_excel(os.path.join(origen_etiquetas,\"test_pp_2018_reducido.xlsx\"), index_col=0)\n",
    "    display(\"Dimensiones dataset original de test suscripcion:\",test_etiquetado.shape,test_etiquetado.head())\n",
    "\n",
    "    #Se carga un modelo previamente entrenado desde el disco. \n",
    "    lda = LdaModel.load(os.path.join(origen_procesados,\"lda\"))\n",
    "\n",
    "    #Se cargan además el diccionario y el corpus con el que se entrenó a dicho modelo\n",
    "    dictionary = Dictionary.load_from_text(os.path.join(origen_procesados,\"dictionary.dict\"))\n",
    "    corpus = MmCorpus(os.path.join(origen_procesados,\"corpus_test.mm\"))"
   ]
  },
  {
   "cell_type": "code",
   "execution_count": 5,
   "metadata": {},
   "outputs": [
    {
     "data": {
      "text/plain": [
       "array(['Bolsas y recargas', 'Otros', 'Datos', 'Voz'], dtype=object)"
      ]
     },
     "metadata": {},
     "output_type": "display_data"
    }
   ],
   "source": [
    "#Corrección de las etiquetas prepago\n",
    "test_etiquetado['M1'] = test_etiquetado['M1'].str.lower()\n",
    "test_etiquetado['M1'] = test_etiquetado['M1'].str.capitalize()\n",
    "display(test_etiquetado[\"M1\"].unique())"
   ]
  },
  {
   "cell_type": "code",
   "execution_count": 6,
   "metadata": {},
   "outputs": [
    {
     "data": {
      "text/plain": [
       "<Figure size 3200x2400 with 0 Axes>"
      ]
     },
     "metadata": {},
     "output_type": "display_data"
    },
    {
     "data": {
      "image/png": "[encoded data removed]",
      "text/plain": [
       "<Figure size 432x288 with 1 Axes>"
      ]
     },
     "metadata": {},
     "output_type": "display_data"
    },
    {
     "data": {
      "text/plain": [
       "<Figure size 3200x2400 with 0 Axes>"
      ]
     },
     "metadata": {},
     "output_type": "display_data"
    },
    {
     "data": {
      "image/png": "[encoded data removed]",
      "text/plain": [
       "<Figure size 432x288 with 1 Axes>"
      ]
     },
     "metadata": {},
     "output_type": "display_data"
    },
    {
     "data": {
      "text/plain": [
       "<Figure size 3200x2400 with 0 Axes>"
      ]
     },
     "metadata": {},
     "output_type": "display_data"
    },
    {
     "data": {
      "image/png": "[encoded data removed]",
      "text/plain": [
       "<Figure size 432x288 with 1 Axes>"
      ]
     },
     "metadata": {},
     "output_type": "display_data"
    },
    {
     "data": {
      "text/plain": [
       "<Figure size 3200x2400 with 0 Axes>"
      ]
     },
     "metadata": {},
     "output_type": "display_data"
    },
    {
     "data": {
      "image/png": "[encoded data removed]",
      "text/plain": [
       "<Figure size 432x288 with 1 Axes>"
      ]
     },
     "metadata": {},
     "output_type": "display_data"
    }
   ],
   "source": [
    "#Operacion\n",
    "import seaborn as sns\n",
    "from matplotlib.pyplot import figure\n",
    "sns.set()\n",
    "\n",
    "df_plot = test_etiquetado.groupby(['M1', 'area_manual_1']).size().reset_index().pivot(columns='M1', index='area_manual_1', values=0)\n",
    "figure(num=None, figsize=(40, 30), dpi=80, facecolor='w', edgecolor='k')\n",
    "df_plot.plot(kind='bar', stacked=True)\n",
    "df_plot = test_etiquetado.groupby(['M1', 'area_manual_2']).size().reset_index().pivot(columns='M1', index='area_manual_2', values=0)\n",
    "figure(num=None, figsize=(40, 30), dpi=80, facecolor='w', edgecolor='k')\n",
    "df_plot.plot(kind='bar', stacked=True)\n",
    "\n",
    "\n",
    "#Suboperacion\n",
    "df_plot = test_etiquetado.groupby(['M1', 'subarea_manual_1']).size().reset_index().pivot(columns='M1', index='subarea_manual_1', values=0)\n",
    "figure(num=None, figsize=(40, 30), dpi=80, facecolor='w', edgecolor='k')\n",
    "df_plot.plot(kind='bar', stacked=True)\n",
    "df_plot = test_etiquetado.groupby(['M1', 'subarea_manual_2']).size().reset_index().pivot(columns='M1', index='subarea_manual_2', values=0)\n",
    "figure(num=None, figsize=(40, 30), dpi=80, facecolor='w', edgecolor='k')\n",
    "df_plot.plot(kind='bar', stacked=True)\n",
    "\n",
    "plt.show()"
   ]
  },
  {
   "cell_type": "markdown",
   "metadata": {},
   "source": [
    "### 1. Outliers y datos de índole extraña\n",
    "\n",
    "Estadistica descriptiva df y tipos"
   ]
  },
  {
   "cell_type": "code",
   "execution_count": 7,
   "metadata": {},
   "outputs": [
    {
     "data": {
      "text/html": [
       "<div>\n",
       "<style scoped>\n",
       "    .dataframe tbody tr th:only-of-type {\n",
       "        vertical-align: middle;\n",
       "    }\n",
       "\n",
       "    .dataframe tbody tr th {\n",
       "        vertical-align: top;\n",
       "    }\n",
       "\n",
       "    .dataframe thead th {\n",
       "        text-align: right;\n",
       "    }\n",
       "</style>\n",
       "<table border=\"1\" class=\"dataframe\">\n",
       "  <thead>\n",
       "    <tr style=\"text-align: right;\">\n",
       "      <th></th>\n",
       "      <th>MES</th>\n",
       "    </tr>\n",
       "  </thead>\n",
       "  <tbody>\n",
       "    <tr>\n",
       "      <th>count</th>\n",
       "      <td>5309.000000</td>\n",
       "    </tr>\n",
       "    <tr>\n",
       "      <th>mean</th>\n",
       "      <td>6.463929</td>\n",
       "    </tr>\n",
       "    <tr>\n",
       "      <th>std</th>\n",
       "      <td>3.444641</td>\n",
       "    </tr>\n",
       "    <tr>\n",
       "      <th>min</th>\n",
       "      <td>1.000000</td>\n",
       "    </tr>\n",
       "    <tr>\n",
       "      <th>25%</th>\n",
       "      <td>3.000000</td>\n",
       "    </tr>\n",
       "    <tr>\n",
       "      <th>50%</th>\n",
       "      <td>6.000000</td>\n",
       "    </tr>\n",
       "    <tr>\n",
       "      <th>75%</th>\n",
       "      <td>9.000000</td>\n",
       "    </tr>\n",
       "    <tr>\n",
       "      <th>max</th>\n",
       "      <td>12.000000</td>\n",
       "    </tr>\n",
       "  </tbody>\n",
       "</table>\n",
       "</div>"
      ],
      "text/plain": [
       "               MES\n",
       "count  5309.000000\n",
       "mean      6.463929\n",
       "std       3.444641\n",
       "min       1.000000\n",
       "25%       3.000000\n",
       "50%       6.000000\n",
       "75%       9.000000\n",
       "max      12.000000"
      ]
     },
     "metadata": {},
     "output_type": "display_data"
    },
    {
     "data": {
      "text/plain": [
       "Contacto            object\n",
       "MES                  int64\n",
       "Grupo cliente       object\n",
       "Área                object\n",
       "Subárea             object\n",
       "Descripción         object\n",
       "M1                  object\n",
       "M2                  object\n",
       "M3                  object\n",
       "Pred_M1             object\n",
       "Pred_M2             object\n",
       "Pred_M3             object\n",
       "area_manual_1       object\n",
       "area_manual_2       object\n",
       "subarea_manual_1    object\n",
       "subarea_manual_2    object\n",
       "dtype: object"
      ]
     },
     "metadata": {},
     "output_type": "display_data"
    },
    {
     "data": {
      "text/plain": [
       "Index(['Contacto', 'MES', 'Grupo cliente', 'Área', 'Subárea', 'Descripción',\n",
       "       'M1', 'M2', 'M3', 'Pred_M1', 'Pred_M2', 'Pred_M3', 'area_manual_1',\n",
       "       'area_manual_2', 'subarea_manual_1', 'subarea_manual_2'],\n",
       "      dtype='object')"
      ]
     },
     "metadata": {},
     "output_type": "display_data"
    }
   ],
   "source": [
    "display(test_etiquetado.describe(),test_etiquetado.dtypes,test_etiquetado.keys())"
   ]
  },
  {
   "cell_type": "markdown",
   "metadata": {},
   "source": [
    "### 2. Preprocesamiento\n",
    "\n",
    "Se pre procesan los datos para utilizar los algoritmos de clasificación. Se realizan las siguientes modificaciones:"
   ]
  },
  {
   "cell_type": "code",
   "execution_count": 8,
   "metadata": {},
   "outputs": [],
   "source": [
    "#Preprocesamiento para MLP, \n",
    "#Grupo cliente  -> Dummies\n",
    "#Operacion -> Dummies\n",
    "#Suboperacion -> Dummies\n",
    "#Motivo -> Dummies\n",
    "mercado = \"pp\"\n",
    "def pre_procesamiento_dummies(data,mercado):  \n",
    "    BASE = data.copy(deep=True)\n",
    "    \n",
    "    if mercado == \"ss\":\n",
    "        #Generación dummies\n",
    "        keys = [\"Operación manual 1\",\"Operación manual 2\",\"Suboperación manual 1\",\n",
    "                \"Suboperación manual 2\",\"Motivo manual 1\",\"Motivo manual 2\",\"Grupo_Cliente\"]\n",
    "        dfs = [pd.get_dummies(BASE[[k]]) for k in keys]\n",
    "        BASE = BASE.join(dfs[0:], how = \"outer\")\n",
    "\n",
    "        #Remoción columnas sobrantes\n",
    "        r_keys = [\"MES\",\"Grupo_Cliente\",\"M3\",\"Requerimiento_Del_Cliente\",\"Operacion\",\"Operación manual 1\",\"Operación manual 2\",\n",
    "                  \"Suboperacion\",\"Suboperación manual 1\",\"Suboperación manual 2\",\"Motivo\",\"Motivo manual 1\",\"Motivo manual 2\"]\n",
    "        BASE = BASE.drop(r_keys[0:], axis=1)\n",
    "    \n",
    "    if mercado == \"pp\":\n",
    "        #Generación dummies\n",
    "        keys = [\"area_manual_1\",\"area_manual_2\",\"subarea_manual_1\",\"subarea_manual_2\",\"Grupo cliente\"]\n",
    "        dfs = [pd.get_dummies(BASE[[k]]) for k in keys]\n",
    "        BASE = BASE.join(dfs[0:], how = \"outer\")\n",
    "        \n",
    "        #Remoción columnas sobrantes\n",
    "        r_keys = [\"MES\",\"Grupo cliente\",\"Área\",\"area_manual_1\",\"area_manual_2\",\"Subárea\",\"subarea_manual_1\",\"subarea_manual_2\"]\n",
    "        BASE = BASE.drop(r_keys[0:], axis=1)\n",
    "        \n",
    "        if type(BASE.Descripción.iloc[0]) == str:\n",
    "            txts = [txt.split() for txt in list(BASE[\"Descripción\"])]\n",
    "            BASE[\"Descripción\"] = txts\n",
    "    else:\n",
    "        print(\"ERROR, se debe seleccionar mercado prepagos: 'pp' o suscritos: 'ss' para llevar a cabo preprocesamiento.\")\n",
    "        \n",
    "    return BASE"
   ]
  },
  {
   "cell_type": "code",
   "execution_count": 15,
   "metadata": {},
   "outputs": [],
   "source": [
    "#Preprocesamiento\n",
    "data_preprocesada = pre_procesamiento_dummies(test_etiquetado,mercado)"
   ]
  },
  {
   "cell_type": "code",
   "execution_count": 16,
   "metadata": {},
   "outputs": [],
   "source": [
    "from config_bt_prepago import*\n",
    "\n",
    "import predicciones"
   ]
  },
  {
   "cell_type": "code",
   "execution_count": null,
   "metadata": {},
   "outputs": [],
   "source": [
    "#Se añaden las predicciones\n",
    "indices = data_preprocesada.index\n",
    "\n",
    "pred_test = predicciones.prediccion_conjunto_test(lda,dictionary,data_preprocesada,pmin=0.35,modo=0,verbose=False)\n",
    "pred_test= pred_test.set_index(indices)\n",
    "\n",
    "\n",
    "test_df[[\"M1\",\"M2\",\"M3\"]] = test_etiquetado[[\"M1\",\"M2\",\"M3\"]].values\n",
    "\n",
    "df_final = pd.concat([data_preprocesada, pred_test], axis=1)\n",
    "display(df_final.head())\n",
    "display(df_final.shape)"
   ]
  },
  {
   "cell_type": "code",
   "execution_count": 19,
   "metadata": {},
   "outputs": [
    {
     "data": {
      "text/plain": [
       "Index(['Contacto', 'Descripción', 'M1', 'M2', 'M3', 'Pred_M1', 'Pred_M2',\n",
       "       'Pred_M3', 'area_manual_1_bolsas y recargas_sa',\n",
       "       'area_manual_1_datos_sa', 'area_manual_1_otros_sa',\n",
       "       'area_manual_1_voz_sa', 'area_manual_2_datos_sa',\n",
       "       'subarea_manual_1_bolsas y recargas_sa', 'subarea_manual_1_datos_sa',\n",
       "       'subarea_manual_1_otros_sa', 'subarea_manual_1_voz_sa',\n",
       "       'subarea_manual_2_bolsas y recargas_sa', 'subarea_manual_2_datos_sa',\n",
       "       'subarea_manual_2_otros_sa', 'Grupo cliente_Prepago', 'Pred_M1',\n",
       "       'Pred_M2', 'Pred_M3'],\n",
       "      dtype='object')"
      ]
     },
     "execution_count": 19,
     "metadata": {},
     "output_type": "execute_result"
    }
   ],
   "source": [
    "df_final.keys()"
   ]
  },
  {
   "cell_type": "markdown",
   "metadata": {},
   "source": [
    "##### Actualización modelo 10/05/2019\n",
    "\n",
    "\"Evaluating learning parameters. Online LDA introduces several learning parameters: $κ$ ∈\n",
    "(0.5, 1], which controls how quickly old information is forgotten; $\\tau_0 ≥ 0$, which downweights early\n",
    "iterations; and the mini-batch size S, which controls how many documents are used each iteration.\n",
    "Although online LDA converges to a stationary point for any valid $κ$, $\\tau_0$, and $S$, the quality of this\n",
    "stationary point and the speed of convergence may depend on how the learning parameters are set...\" ([OLDA](https://www.di.ens.fr/~fbach/mdhnips2010.pdf))<br>\n",
    "\n",
    "OJO: según documentación, una vez un modelo se ha entrenado no se puede actualizar el vocabulario del mismo. En consecuencia, se debe actualizar el diccionario que crea el doc2bow, preprocesar nuevamente todas las muestras que entrenaron modelo original con dicho diccionario, reentrenar modelo original con ese diccionario, y, recién ahí, hacer el update."
   ]
  },
  {
   "cell_type": "code",
   "execution_count": null,
   "metadata": {},
   "outputs": [],
   "source": [
    "lda.update(corpus = corpus_nuevo, chunksize =20, decay=0.5, offset=64)"
   ]
  },
  {
   "cell_type": "code",
   "execution_count": null,
   "metadata": {},
   "outputs": [],
   "source": [
    "from sklearn.model_selection import KFold\n",
    "#Creacion arrays features y target\n",
    "y = test_etiquetado[\"M1\"].values\n",
    "X = test_etiquetado[[\"Operacion\",\"Suboperacion\",\"Motivo\"]].values\n",
    "\n",
    "kf = KFold(n_splits=5, random_state = 5)\n",
    "kf.get_n_splits(test_etiquetado.values)\n",
    "\n",
    "print(kf)  \n",
    "\n",
    "for train_index, test_index in kf.split(X):\n",
    "    print(\"TRAIN:\", train_index, \"TEST:\", test_index)\n",
    "    X_train, X_test = X[train_index], X[test_index]\n",
    "    y_train, y_test = y[train_index], y[test_index]"
   ]
  }
 ],
 "metadata": {
  "kernelspec": {
   "display_name": "Python 3",
   "language": "python",
   "name": "python3"
  },
  "language_info": {
   "codemirror_mode": {
    "name": "ipython",
    "version": 3
   },
   "file_extension": ".py",
   "mimetype": "text/x-python",
   "name": "python",
   "nbconvert_exporter": "python",
   "pygments_lexer": "ipython3",
   "version": "3.7.6"
  }
 },
 "nbformat": 4,
 "nbformat_minor": 2
}
